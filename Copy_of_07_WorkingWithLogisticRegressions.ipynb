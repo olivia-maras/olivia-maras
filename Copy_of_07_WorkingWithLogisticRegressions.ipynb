{
  "nbformat": 4,
  "nbformat_minor": 0,
  "metadata": {
    "kernelspec": {
      "display_name": "Python 3",
      "language": "python",
      "name": "python3"
    },
    "language_info": {
      "codemirror_mode": {
        "name": "ipython",
        "version": 3
      },
      "file_extension": ".py",
      "mimetype": "text/x-python",
      "name": "python",
      "nbconvert_exporter": "python",
      "pygments_lexer": "ipython3",
      "version": "3.8.3"
    },
    "colab": {
      "name": "Copy of 07-WorkingWithLogisticRegressions.ipynb",
      "provenance": [],
      "collapsed_sections": [],
      "include_colab_link": true
    }
  },
  "cells": [
    {
      "cell_type": "markdown",
      "metadata": {
        "id": "view-in-github",
        "colab_type": "text"
      },
      "source": [
        "<a href=\"https://colab.research.google.com/github/olivia-maras/olivia-maras/blob/main/Copy_of_07_WorkingWithLogisticRegressions.ipynb\" target=\"_parent\"><img src=\"https://colab.research.google.com/assets/colab-badge.svg\" alt=\"Open In Colab\"/></a>"
      ]
    },
    {
      "cell_type": "markdown",
      "metadata": {
        "id": "O44S74uWw1oo"
      },
      "source": [
        "## **Logistic Regression in Python**\n",
        "\n",
        "Credit for the bulk of this notebook goes to Jonathan Stray (https://twitter.com/jonathanstray) via (https://github.com/jstray/lede-algorithms) \n",
        "\n",
        "This notebook builds up to logistic regression, that is, fitting a model that predicts the output where there are only two choices.\n",
        "\n",
        "Throughout we'll be using data on citations for speeding from Massechusets from 2001. This data was originally analyzed by the Boston Globe for their series [Speed Trap: Who gets a ticket, who gets a break?](http://archive.boston.com/globe/metro/packages/tickets/). You can read about their analysis in this [methodology document](http://archive.boston.com/globe/metro/packages/tickets/study.pdf), and get the original data [here](http://archive.boston.com/globe/metro/packages/tickets/warnings.zip).\n",
        "\n",
        "For a brief period between April and May 2001, the Massachusetts state government recorded both speeding tickets and warnings from officer's paper citations into their database. At that time, both types of citations were written up on the same form, with only a checkbox differentiating between the two. This solves the \"denominator problem\" that often arises when doing analyses on real-world phenomena: we have data about one part of the situation we want to study (e.g. tickets, police stops &c), but we rarely have data about the population that was _not_ ticketed, stopped, &c., limiting what we can say about potential bias in rates.\n",
        "\n",
        "From the driver's perspective, a ticket results in a fine that could raise your insurance premium or generate \"points\" on your license. A warning does neither of those. Having data on both means we can analyze the data to determine what patterns exist, if any, within the populations of drivers who get tickets vs. warnings, especially when the circumstances are similar or the same. \n",
        "\n",
        "There is a lot of data about each stop, including the speed, age, race, gender, and home zip code of the driver. The main question is, are some groups more likely to get tickets, and not warnings, than others?"
      ]
    },
    {
      "cell_type": "code",
      "metadata": {
        "id": "r1NnBwBJw1oq"
      },
      "source": [
        "import pandas as pd\n",
        "import numpy as np\n",
        "import matplotlib.pyplot as plt\n"
      ],
      "execution_count": null,
      "outputs": []
    },
    {
      "cell_type": "code",
      "metadata": {
        "id": "slZ7Xluyw5Ku"
      },
      "source": [
        "# THIS CODE REQUIRED FOR GOOGLE COLAB\n",
        "# Import PyDrive and associated libraries.\n",
        "# This only needs to be done once per notebook.\n",
        "# Documentation found here: https://colab.research.google.com/notebooks/io.ipynb#scrollTo=7taylj9wpsA2\n",
        "from pydrive.auth import GoogleAuth\n",
        "from pydrive.drive import GoogleDrive\n",
        "from google.colab import auth\n",
        "from oauth2client.client import GoogleCredentials\n",
        "\n",
        "# Authenticate and create the PyDrive client.\n",
        "# This only needs to be done once per notebook.\n",
        "auth.authenticate_user()\n",
        "gauth = GoogleAuth()\n",
        "gauth.credentials = GoogleCredentials.get_application_default()\n",
        "drive = GoogleDrive(gauth)"
      ],
      "execution_count": null,
      "outputs": []
    },
    {
      "cell_type": "code",
      "metadata": {
        "id": "QXefZzkTw5V4",
        "colab": {
          "base_uri": "https://localhost:8080/"
        },
        "outputId": "b48c73eb-785e-4182-8eaf-01f76d2fdcf3"
      },
      "source": [
        "# THIS CODE REQUIRED FOR GOOGLE COLAB\n",
        "# Link to data file stored in Drive: https://drive.google.com/file/d/16OmsgHvqogWutxbte8EiRlEloVuNys32/view?usp=sharing\n",
        "file_id = '16OmsgHvqogWutxbte8EiRlEloVuNys32' # notice where this string comes from in link above\n",
        "\n",
        "imported_file = drive.CreateFile({'id': file_id}) # creating an accessible copy of the shared data file\n",
        "print(imported_file['title'])  # it should print the title of desired file\n",
        "imported_file.GetContentFile(imported_file['title']) # refer to it in this notebook by the same name as it has in Drive"
      ],
      "execution_count": null,
      "outputs": [
        {
          "output_type": "stream",
          "name": "stdout",
          "text": [
            "tickets-warnings.csv\n"
          ]
        }
      ]
    },
    {
      "cell_type": "code",
      "metadata": {
        "id": "W1GLm6QMw1oq"
      },
      "source": [
        "tw_raw = pd.read_csv('tickets-warnings.csv')\n"
      ],
      "execution_count": null,
      "outputs": []
    },
    {
      "cell_type": "markdown",
      "metadata": {
        "id": "Ep8mot4Vw1os"
      },
      "source": [
        "For a complete description of all 57 fields, see the [methodology](http://archive.boston.com/globe/metro/packages/tickets/study.pdf). For our purposes, we are only intersted in the citations for speeding, and most interested in the fields `TYPE` (ticket or warning), `MINORITY`, `SEX`, `AGE`, and `MPHOVER`."
      ]
    },
    {
      "cell_type": "code",
      "metadata": {
        "id": "OYGhKGPzw1os",
        "colab": {
          "base_uri": "https://localhost:8080/",
          "height": 206
        },
        "outputId": "ec3e64b5-b60e-44cf-a570-56e18cb0f581"
      },
      "source": [
        "# only look at the speeding offenses\n",
        "\n",
        "only_speeding = tw_raw['DESCRIPT'] == 'SPEEDING'\n",
        "tw = tw_raw[only_speeding].reset_index(drop=True)\n",
        "\n",
        "\n",
        "# focus only on the columns that interest us\n",
        "tw=tw[['DATE', 'TYPE', 'AGENCY3','SEX', 'MINORITY', 'AGE', 'MPH','MPHOVER', 'INTOWN']]\n",
        "tw.head()\n"
      ],
      "execution_count": null,
      "outputs": [
        {
          "output_type": "execute_result",
          "data": {
            "text/plain": [
              "         DATE TYPE AGENCY3 SEX MINORITY   AGE   MPH  MPHOVER INTOWN\n",
              "0  20010411.0    T       S   M        W  21.0  80.0     15.0      N\n",
              "1  20010427.0    T       S   M        W  24.0  85.0     20.0      N\n",
              "2  20010502.0    T       S   M        W  37.0  80.0     30.0      N\n",
              "3  20010506.0    W       S   M        W  30.0  80.0     15.0      N\n",
              "4  20010506.0    W       S   F        M  22.0  75.0     10.0      N"
            ],
            "text/html": [
              "\n",
              "  <div id=\"df-13ca108a-2205-4ddc-a4aa-b243c873c84e\">\n",
              "    <div class=\"colab-df-container\">\n",
              "      <div>\n",
              "<style scoped>\n",
              "    .dataframe tbody tr th:only-of-type {\n",
              "        vertical-align: middle;\n",
              "    }\n",
              "\n",
              "    .dataframe tbody tr th {\n",
              "        vertical-align: top;\n",
              "    }\n",
              "\n",
              "    .dataframe thead th {\n",
              "        text-align: right;\n",
              "    }\n",
              "</style>\n",
              "<table border=\"1\" class=\"dataframe\">\n",
              "  <thead>\n",
              "    <tr style=\"text-align: right;\">\n",
              "      <th></th>\n",
              "      <th>DATE</th>\n",
              "      <th>TYPE</th>\n",
              "      <th>AGENCY3</th>\n",
              "      <th>SEX</th>\n",
              "      <th>MINORITY</th>\n",
              "      <th>AGE</th>\n",
              "      <th>MPH</th>\n",
              "      <th>MPHOVER</th>\n",
              "      <th>INTOWN</th>\n",
              "    </tr>\n",
              "  </thead>\n",
              "  <tbody>\n",
              "    <tr>\n",
              "      <th>0</th>\n",
              "      <td>20010411.0</td>\n",
              "      <td>T</td>\n",
              "      <td>S</td>\n",
              "      <td>M</td>\n",
              "      <td>W</td>\n",
              "      <td>21.0</td>\n",
              "      <td>80.0</td>\n",
              "      <td>15.0</td>\n",
              "      <td>N</td>\n",
              "    </tr>\n",
              "    <tr>\n",
              "      <th>1</th>\n",
              "      <td>20010427.0</td>\n",
              "      <td>T</td>\n",
              "      <td>S</td>\n",
              "      <td>M</td>\n",
              "      <td>W</td>\n",
              "      <td>24.0</td>\n",
              "      <td>85.0</td>\n",
              "      <td>20.0</td>\n",
              "      <td>N</td>\n",
              "    </tr>\n",
              "    <tr>\n",
              "      <th>2</th>\n",
              "      <td>20010502.0</td>\n",
              "      <td>T</td>\n",
              "      <td>S</td>\n",
              "      <td>M</td>\n",
              "      <td>W</td>\n",
              "      <td>37.0</td>\n",
              "      <td>80.0</td>\n",
              "      <td>30.0</td>\n",
              "      <td>N</td>\n",
              "    </tr>\n",
              "    <tr>\n",
              "      <th>3</th>\n",
              "      <td>20010506.0</td>\n",
              "      <td>W</td>\n",
              "      <td>S</td>\n",
              "      <td>M</td>\n",
              "      <td>W</td>\n",
              "      <td>30.0</td>\n",
              "      <td>80.0</td>\n",
              "      <td>15.0</td>\n",
              "      <td>N</td>\n",
              "    </tr>\n",
              "    <tr>\n",
              "      <th>4</th>\n",
              "      <td>20010506.0</td>\n",
              "      <td>W</td>\n",
              "      <td>S</td>\n",
              "      <td>F</td>\n",
              "      <td>M</td>\n",
              "      <td>22.0</td>\n",
              "      <td>75.0</td>\n",
              "      <td>10.0</td>\n",
              "      <td>N</td>\n",
              "    </tr>\n",
              "  </tbody>\n",
              "</table>\n",
              "</div>\n",
              "      <button class=\"colab-df-convert\" onclick=\"convertToInteractive('df-13ca108a-2205-4ddc-a4aa-b243c873c84e')\"\n",
              "              title=\"Convert this dataframe to an interactive table.\"\n",
              "              style=\"display:none;\">\n",
              "        \n",
              "  <svg xmlns=\"http://www.w3.org/2000/svg\" height=\"24px\"viewBox=\"0 0 24 24\"\n",
              "       width=\"24px\">\n",
              "    <path d=\"M0 0h24v24H0V0z\" fill=\"none\"/>\n",
              "    <path d=\"M18.56 5.44l.94 2.06.94-2.06 2.06-.94-2.06-.94-.94-2.06-.94 2.06-2.06.94zm-11 1L8.5 8.5l.94-2.06 2.06-.94-2.06-.94L8.5 2.5l-.94 2.06-2.06.94zm10 10l.94 2.06.94-2.06 2.06-.94-2.06-.94-.94-2.06-.94 2.06-2.06.94z\"/><path d=\"M17.41 7.96l-1.37-1.37c-.4-.4-.92-.59-1.43-.59-.52 0-1.04.2-1.43.59L10.3 9.45l-7.72 7.72c-.78.78-.78 2.05 0 2.83L4 21.41c.39.39.9.59 1.41.59.51 0 1.02-.2 1.41-.59l7.78-7.78 2.81-2.81c.8-.78.8-2.07 0-2.86zM5.41 20L4 18.59l7.72-7.72 1.47 1.35L5.41 20z\"/>\n",
              "  </svg>\n",
              "      </button>\n",
              "      \n",
              "  <style>\n",
              "    .colab-df-container {\n",
              "      display:flex;\n",
              "      flex-wrap:wrap;\n",
              "      gap: 12px;\n",
              "    }\n",
              "\n",
              "    .colab-df-convert {\n",
              "      background-color: #E8F0FE;\n",
              "      border: none;\n",
              "      border-radius: 50%;\n",
              "      cursor: pointer;\n",
              "      display: none;\n",
              "      fill: #1967D2;\n",
              "      height: 32px;\n",
              "      padding: 0 0 0 0;\n",
              "      width: 32px;\n",
              "    }\n",
              "\n",
              "    .colab-df-convert:hover {\n",
              "      background-color: #E2EBFA;\n",
              "      box-shadow: 0px 1px 2px rgba(60, 64, 67, 0.3), 0px 1px 3px 1px rgba(60, 64, 67, 0.15);\n",
              "      fill: #174EA6;\n",
              "    }\n",
              "\n",
              "    [theme=dark] .colab-df-convert {\n",
              "      background-color: #3B4455;\n",
              "      fill: #D2E3FC;\n",
              "    }\n",
              "\n",
              "    [theme=dark] .colab-df-convert:hover {\n",
              "      background-color: #434B5C;\n",
              "      box-shadow: 0px 1px 3px 1px rgba(0, 0, 0, 0.15);\n",
              "      filter: drop-shadow(0px 1px 2px rgba(0, 0, 0, 0.3));\n",
              "      fill: #FFFFFF;\n",
              "    }\n",
              "  </style>\n",
              "\n",
              "      <script>\n",
              "        const buttonEl =\n",
              "          document.querySelector('#df-13ca108a-2205-4ddc-a4aa-b243c873c84e button.colab-df-convert');\n",
              "        buttonEl.style.display =\n",
              "          google.colab.kernel.accessAllowed ? 'block' : 'none';\n",
              "\n",
              "        async function convertToInteractive(key) {\n",
              "          const element = document.querySelector('#df-13ca108a-2205-4ddc-a4aa-b243c873c84e');\n",
              "          const dataTable =\n",
              "            await google.colab.kernel.invokeFunction('convertToInteractive',\n",
              "                                                     [key], {});\n",
              "          if (!dataTable) return;\n",
              "\n",
              "          const docLinkHtml = 'Like what you see? Visit the ' +\n",
              "            '<a target=\"_blank\" href=https://colab.research.google.com/notebooks/data_table.ipynb>data table notebook</a>'\n",
              "            + ' to learn more about interactive tables.';\n",
              "          element.innerHTML = '';\n",
              "          dataTable['output_type'] = 'display_data';\n",
              "          await google.colab.output.renderOutput(dataTable, element);\n",
              "          const docLink = document.createElement('div');\n",
              "          docLink.innerHTML = docLinkHtml;\n",
              "          element.appendChild(docLink);\n",
              "        }\n",
              "      </script>\n",
              "    </div>\n",
              "  </div>\n",
              "  "
            ]
          },
          "metadata": {},
          "execution_count": 28
        }
      ]
    },
    {
      "cell_type": "markdown",
      "metadata": {
        "id": "c5XxVW6aw1ot"
      },
      "source": [
        "Let's start with the total number of minority vs. white drivers"
      ]
    },
    {
      "cell_type": "code",
      "metadata": {
        "id": "H87iHg-lw1ot",
        "colab": {
          "base_uri": "https://localhost:8080/",
          "height": 175
        },
        "outputId": "47fb3333-572b-4020-c5f9-5b88bb225dd8"
      },
      "source": [
        "tw.groupby('MINORITY').count()"
      ],
      "execution_count": null,
      "outputs": [
        {
          "output_type": "execute_result",
          "data": {
            "text/plain": [
              "           DATE   TYPE  AGENCY3    SEX    AGE    MPH  MPHOVER  INTOWN\n",
              "MINORITY                                                             \n",
              "M         12836  12836    12836  12836  12833  12836    12609   12836\n",
              "U          1633   1633     1633   1633   1632   1633     1592    1633\n",
              "W         79275  79275    79275  79275  79262  79275    78071   79275"
            ],
            "text/html": [
              "\n",
              "  <div id=\"df-1d9ab3fe-d304-41e2-95b9-2212e565adfb\">\n",
              "    <div class=\"colab-df-container\">\n",
              "      <div>\n",
              "<style scoped>\n",
              "    .dataframe tbody tr th:only-of-type {\n",
              "        vertical-align: middle;\n",
              "    }\n",
              "\n",
              "    .dataframe tbody tr th {\n",
              "        vertical-align: top;\n",
              "    }\n",
              "\n",
              "    .dataframe thead th {\n",
              "        text-align: right;\n",
              "    }\n",
              "</style>\n",
              "<table border=\"1\" class=\"dataframe\">\n",
              "  <thead>\n",
              "    <tr style=\"text-align: right;\">\n",
              "      <th></th>\n",
              "      <th>DATE</th>\n",
              "      <th>TYPE</th>\n",
              "      <th>AGENCY3</th>\n",
              "      <th>SEX</th>\n",
              "      <th>AGE</th>\n",
              "      <th>MPH</th>\n",
              "      <th>MPHOVER</th>\n",
              "      <th>INTOWN</th>\n",
              "    </tr>\n",
              "    <tr>\n",
              "      <th>MINORITY</th>\n",
              "      <th></th>\n",
              "      <th></th>\n",
              "      <th></th>\n",
              "      <th></th>\n",
              "      <th></th>\n",
              "      <th></th>\n",
              "      <th></th>\n",
              "      <th></th>\n",
              "    </tr>\n",
              "  </thead>\n",
              "  <tbody>\n",
              "    <tr>\n",
              "      <th>M</th>\n",
              "      <td>12836</td>\n",
              "      <td>12836</td>\n",
              "      <td>12836</td>\n",
              "      <td>12836</td>\n",
              "      <td>12833</td>\n",
              "      <td>12836</td>\n",
              "      <td>12609</td>\n",
              "      <td>12836</td>\n",
              "    </tr>\n",
              "    <tr>\n",
              "      <th>U</th>\n",
              "      <td>1633</td>\n",
              "      <td>1633</td>\n",
              "      <td>1633</td>\n",
              "      <td>1633</td>\n",
              "      <td>1632</td>\n",
              "      <td>1633</td>\n",
              "      <td>1592</td>\n",
              "      <td>1633</td>\n",
              "    </tr>\n",
              "    <tr>\n",
              "      <th>W</th>\n",
              "      <td>79275</td>\n",
              "      <td>79275</td>\n",
              "      <td>79275</td>\n",
              "      <td>79275</td>\n",
              "      <td>79262</td>\n",
              "      <td>79275</td>\n",
              "      <td>78071</td>\n",
              "      <td>79275</td>\n",
              "    </tr>\n",
              "  </tbody>\n",
              "</table>\n",
              "</div>\n",
              "      <button class=\"colab-df-convert\" onclick=\"convertToInteractive('df-1d9ab3fe-d304-41e2-95b9-2212e565adfb')\"\n",
              "              title=\"Convert this dataframe to an interactive table.\"\n",
              "              style=\"display:none;\">\n",
              "        \n",
              "  <svg xmlns=\"http://www.w3.org/2000/svg\" height=\"24px\"viewBox=\"0 0 24 24\"\n",
              "       width=\"24px\">\n",
              "    <path d=\"M0 0h24v24H0V0z\" fill=\"none\"/>\n",
              "    <path d=\"M18.56 5.44l.94 2.06.94-2.06 2.06-.94-2.06-.94-.94-2.06-.94 2.06-2.06.94zm-11 1L8.5 8.5l.94-2.06 2.06-.94-2.06-.94L8.5 2.5l-.94 2.06-2.06.94zm10 10l.94 2.06.94-2.06 2.06-.94-2.06-.94-.94-2.06-.94 2.06-2.06.94z\"/><path d=\"M17.41 7.96l-1.37-1.37c-.4-.4-.92-.59-1.43-.59-.52 0-1.04.2-1.43.59L10.3 9.45l-7.72 7.72c-.78.78-.78 2.05 0 2.83L4 21.41c.39.39.9.59 1.41.59.51 0 1.02-.2 1.41-.59l7.78-7.78 2.81-2.81c.8-.78.8-2.07 0-2.86zM5.41 20L4 18.59l7.72-7.72 1.47 1.35L5.41 20z\"/>\n",
              "  </svg>\n",
              "      </button>\n",
              "      \n",
              "  <style>\n",
              "    .colab-df-container {\n",
              "      display:flex;\n",
              "      flex-wrap:wrap;\n",
              "      gap: 12px;\n",
              "    }\n",
              "\n",
              "    .colab-df-convert {\n",
              "      background-color: #E8F0FE;\n",
              "      border: none;\n",
              "      border-radius: 50%;\n",
              "      cursor: pointer;\n",
              "      display: none;\n",
              "      fill: #1967D2;\n",
              "      height: 32px;\n",
              "      padding: 0 0 0 0;\n",
              "      width: 32px;\n",
              "    }\n",
              "\n",
              "    .colab-df-convert:hover {\n",
              "      background-color: #E2EBFA;\n",
              "      box-shadow: 0px 1px 2px rgba(60, 64, 67, 0.3), 0px 1px 3px 1px rgba(60, 64, 67, 0.15);\n",
              "      fill: #174EA6;\n",
              "    }\n",
              "\n",
              "    [theme=dark] .colab-df-convert {\n",
              "      background-color: #3B4455;\n",
              "      fill: #D2E3FC;\n",
              "    }\n",
              "\n",
              "    [theme=dark] .colab-df-convert:hover {\n",
              "      background-color: #434B5C;\n",
              "      box-shadow: 0px 1px 3px 1px rgba(0, 0, 0, 0.15);\n",
              "      filter: drop-shadow(0px 1px 2px rgba(0, 0, 0, 0.3));\n",
              "      fill: #FFFFFF;\n",
              "    }\n",
              "  </style>\n",
              "\n",
              "      <script>\n",
              "        const buttonEl =\n",
              "          document.querySelector('#df-1d9ab3fe-d304-41e2-95b9-2212e565adfb button.colab-df-convert');\n",
              "        buttonEl.style.display =\n",
              "          google.colab.kernel.accessAllowed ? 'block' : 'none';\n",
              "\n",
              "        async function convertToInteractive(key) {\n",
              "          const element = document.querySelector('#df-1d9ab3fe-d304-41e2-95b9-2212e565adfb');\n",
              "          const dataTable =\n",
              "            await google.colab.kernel.invokeFunction('convertToInteractive',\n",
              "                                                     [key], {});\n",
              "          if (!dataTable) return;\n",
              "\n",
              "          const docLinkHtml = 'Like what you see? Visit the ' +\n",
              "            '<a target=\"_blank\" href=https://colab.research.google.com/notebooks/data_table.ipynb>data table notebook</a>'\n",
              "            + ' to learn more about interactive tables.';\n",
              "          element.innerHTML = '';\n",
              "          dataTable['output_type'] = 'display_data';\n",
              "          await google.colab.output.renderOutput(dataTable, element);\n",
              "          const docLink = document.createElement('div');\n",
              "          docLink.innerHTML = docLinkHtml;\n",
              "          element.appendChild(docLink);\n",
              "        }\n",
              "      </script>\n",
              "    </div>\n",
              "  </div>\n",
              "  "
            ]
          },
          "metadata": {},
          "execution_count": 7
        }
      ]
    },
    {
      "cell_type": "markdown",
      "metadata": {
        "id": "FZ1LYLIZw1ou"
      },
      "source": [
        "What fraction of citations were given to minorities?"
      ]
    },
    {
      "cell_type": "code",
      "metadata": {
        "id": "RpQyXom8w1ou",
        "colab": {
          "base_uri": "https://localhost:8080/"
        },
        "outputId": "69ed4473-bbf9-4ad9-a7f6-6e915506ec22"
      },
      "source": [
        "12836/(12836+79275)"
      ],
      "execution_count": null,
      "outputs": [
        {
          "output_type": "execute_result",
          "data": {
            "text/plain": [
              "0.13935360597539925"
            ]
          },
          "metadata": {},
          "execution_count": 8
        }
      ]
    },
    {
      "cell_type": "markdown",
      "metadata": {
        "id": "gz-mtpZCw1ou"
      },
      "source": [
        "Is 14% a lot or a little? This is another case where we run into the \"denominator problem\". We could compare to the minority population of the towns where these stops happened, but would also need to account for things like people driving through. There's also no guarantee drivers in both groups have the same distribution of speeds. \n",
        "\n",
        "Insteaed, we're going to compare the probability of getting a warning, as opposed to a ticket, between the groups.\n",
        "\n",
        "First, let's clean up the data a little but dropping the relatively small (>2%) number of records where the race of the driver is unknown."
      ]
    },
    {
      "cell_type": "code",
      "metadata": {
        "id": "uSOP6h5Sw1ov"
      },
      "source": [
        "# drop the unknown race entries\n",
        "# renumber the rows, and don't create a new column\n",
        "\n",
        "unknown_filter = tw['MINORITY'] != 'U'\n",
        "tw = tw[unknown_filter].reset_index(drop=True) #drop all rows where race/ethnicity is unknown"
      ],
      "execution_count": null,
      "outputs": []
    },
    {
      "cell_type": "code",
      "metadata": {
        "id": "BTnYxxwKw1ov",
        "colab": {
          "base_uri": "https://localhost:8080/"
        },
        "outputId": "645136ef-5e65-4ec8-e46e-aa9a4f6307f4"
      },
      "source": [
        "# how many people are in each group? \"1\" is any non-white driver\n",
        "sz = tw.groupby(['MINORITY', 'TYPE']).size()\n",
        "sz"
      ],
      "execution_count": null,
      "outputs": [
        {
          "output_type": "execute_result",
          "data": {
            "text/plain": [
              "MINORITY  TYPE\n",
              "M         T        7731\n",
              "          W        5105\n",
              "W         T       40126\n",
              "          W       39149\n",
              "dtype: int64"
            ]
          },
          "metadata": {},
          "execution_count": 13
        }
      ]
    },
    {
      "cell_type": "code",
      "metadata": {
        "id": "2NACfSbow1ow",
        "colab": {
          "base_uri": "https://localhost:8080/",
          "height": 143
        },
        "outputId": "ee2258b2-5c8a-433d-e968-36196eefab73"
      },
      "source": [
        "# a crosstab is probably a little easier to read\n",
        "\n",
        "pd.crosstab(tw.MINORITY, tw.TYPE)"
      ],
      "execution_count": null,
      "outputs": [
        {
          "output_type": "execute_result",
          "data": {
            "text/plain": [
              "TYPE          T      W\n",
              "MINORITY              \n",
              "M          7731   5105\n",
              "W         40126  39149"
            ],
            "text/html": [
              "\n",
              "  <div id=\"df-f477c6f5-e15d-41c7-90ba-0da6c4acc3eb\">\n",
              "    <div class=\"colab-df-container\">\n",
              "      <div>\n",
              "<style scoped>\n",
              "    .dataframe tbody tr th:only-of-type {\n",
              "        vertical-align: middle;\n",
              "    }\n",
              "\n",
              "    .dataframe tbody tr th {\n",
              "        vertical-align: top;\n",
              "    }\n",
              "\n",
              "    .dataframe thead th {\n",
              "        text-align: right;\n",
              "    }\n",
              "</style>\n",
              "<table border=\"1\" class=\"dataframe\">\n",
              "  <thead>\n",
              "    <tr style=\"text-align: right;\">\n",
              "      <th>TYPE</th>\n",
              "      <th>T</th>\n",
              "      <th>W</th>\n",
              "    </tr>\n",
              "    <tr>\n",
              "      <th>MINORITY</th>\n",
              "      <th></th>\n",
              "      <th></th>\n",
              "    </tr>\n",
              "  </thead>\n",
              "  <tbody>\n",
              "    <tr>\n",
              "      <th>M</th>\n",
              "      <td>7731</td>\n",
              "      <td>5105</td>\n",
              "    </tr>\n",
              "    <tr>\n",
              "      <th>W</th>\n",
              "      <td>40126</td>\n",
              "      <td>39149</td>\n",
              "    </tr>\n",
              "  </tbody>\n",
              "</table>\n",
              "</div>\n",
              "      <button class=\"colab-df-convert\" onclick=\"convertToInteractive('df-f477c6f5-e15d-41c7-90ba-0da6c4acc3eb')\"\n",
              "              title=\"Convert this dataframe to an interactive table.\"\n",
              "              style=\"display:none;\">\n",
              "        \n",
              "  <svg xmlns=\"http://www.w3.org/2000/svg\" height=\"24px\"viewBox=\"0 0 24 24\"\n",
              "       width=\"24px\">\n",
              "    <path d=\"M0 0h24v24H0V0z\" fill=\"none\"/>\n",
              "    <path d=\"M18.56 5.44l.94 2.06.94-2.06 2.06-.94-2.06-.94-.94-2.06-.94 2.06-2.06.94zm-11 1L8.5 8.5l.94-2.06 2.06-.94-2.06-.94L8.5 2.5l-.94 2.06-2.06.94zm10 10l.94 2.06.94-2.06 2.06-.94-2.06-.94-.94-2.06-.94 2.06-2.06.94z\"/><path d=\"M17.41 7.96l-1.37-1.37c-.4-.4-.92-.59-1.43-.59-.52 0-1.04.2-1.43.59L10.3 9.45l-7.72 7.72c-.78.78-.78 2.05 0 2.83L4 21.41c.39.39.9.59 1.41.59.51 0 1.02-.2 1.41-.59l7.78-7.78 2.81-2.81c.8-.78.8-2.07 0-2.86zM5.41 20L4 18.59l7.72-7.72 1.47 1.35L5.41 20z\"/>\n",
              "  </svg>\n",
              "      </button>\n",
              "      \n",
              "  <style>\n",
              "    .colab-df-container {\n",
              "      display:flex;\n",
              "      flex-wrap:wrap;\n",
              "      gap: 12px;\n",
              "    }\n",
              "\n",
              "    .colab-df-convert {\n",
              "      background-color: #E8F0FE;\n",
              "      border: none;\n",
              "      border-radius: 50%;\n",
              "      cursor: pointer;\n",
              "      display: none;\n",
              "      fill: #1967D2;\n",
              "      height: 32px;\n",
              "      padding: 0 0 0 0;\n",
              "      width: 32px;\n",
              "    }\n",
              "\n",
              "    .colab-df-convert:hover {\n",
              "      background-color: #E2EBFA;\n",
              "      box-shadow: 0px 1px 2px rgba(60, 64, 67, 0.3), 0px 1px 3px 1px rgba(60, 64, 67, 0.15);\n",
              "      fill: #174EA6;\n",
              "    }\n",
              "\n",
              "    [theme=dark] .colab-df-convert {\n",
              "      background-color: #3B4455;\n",
              "      fill: #D2E3FC;\n",
              "    }\n",
              "\n",
              "    [theme=dark] .colab-df-convert:hover {\n",
              "      background-color: #434B5C;\n",
              "      box-shadow: 0px 1px 3px 1px rgba(0, 0, 0, 0.15);\n",
              "      filter: drop-shadow(0px 1px 2px rgba(0, 0, 0, 0.3));\n",
              "      fill: #FFFFFF;\n",
              "    }\n",
              "  </style>\n",
              "\n",
              "      <script>\n",
              "        const buttonEl =\n",
              "          document.querySelector('#df-f477c6f5-e15d-41c7-90ba-0da6c4acc3eb button.colab-df-convert');\n",
              "        buttonEl.style.display =\n",
              "          google.colab.kernel.accessAllowed ? 'block' : 'none';\n",
              "\n",
              "        async function convertToInteractive(key) {\n",
              "          const element = document.querySelector('#df-f477c6f5-e15d-41c7-90ba-0da6c4acc3eb');\n",
              "          const dataTable =\n",
              "            await google.colab.kernel.invokeFunction('convertToInteractive',\n",
              "                                                     [key], {});\n",
              "          if (!dataTable) return;\n",
              "\n",
              "          const docLinkHtml = 'Like what you see? Visit the ' +\n",
              "            '<a target=\"_blank\" href=https://colab.research.google.com/notebooks/data_table.ipynb>data table notebook</a>'\n",
              "            + ' to learn more about interactive tables.';\n",
              "          element.innerHTML = '';\n",
              "          dataTable['output_type'] = 'display_data';\n",
              "          await google.colab.output.renderOutput(dataTable, element);\n",
              "          const docLink = document.createElement('div');\n",
              "          docLink.innerHTML = docLinkHtml;\n",
              "          element.appendChild(docLink);\n",
              "        }\n",
              "      </script>\n",
              "    </div>\n",
              "  </div>\n",
              "  "
            ]
          },
          "metadata": {},
          "execution_count": 14
        }
      ]
    },
    {
      "cell_type": "code",
      "metadata": {
        "id": "vTk3JIJtw1ow",
        "colab": {
          "base_uri": "https://localhost:8080/",
          "height": 296
        },
        "outputId": "466f9b00-c24b-4a69-cb1e-c9de349e7d7f"
      },
      "source": [
        "# let's visualize this as a bar graph\n",
        "\n",
        "pd.crosstab(tw.MINORITY, tw.TYPE).plot(kind='bar')\n"
      ],
      "execution_count": null,
      "outputs": [
        {
          "output_type": "execute_result",
          "data": {
            "text/plain": [
              "<matplotlib.axes._subplots.AxesSubplot at 0x7f156bfd5cd0>"
            ]
          },
          "metadata": {},
          "execution_count": 15
        },
        {
          "output_type": "display_data",
          "data": {
            "text/plain": [
              "<Figure size 432x288 with 1 Axes>"
            ],
            "image/png": "[encoded data removed]"
          },
          "metadata": {
            "needs_background": "light"
          }
        }
      ]
    },
    {
      "cell_type": "code",
      "metadata": {
        "id": "eiNcC-8fw1ox",
        "colab": {
          "base_uri": "https://localhost:8080/"
        },
        "outputId": "baf424fc-695d-4109-d8f0-bf330cf4905c"
      },
      "source": [
        "# percent of minority citations which were tickets\n",
        "\n",
        "minority_ticket_pct = sz['M']['T']/ sum(sz['M'])\n",
        "\n",
        "print(minority_ticket_pct)\n"
      ],
      "execution_count": null,
      "outputs": [
        {
          "output_type": "stream",
          "name": "stdout",
          "text": [
            "0.6022904331567467\n"
          ]
        }
      ]
    },
    {
      "cell_type": "code",
      "metadata": {
        "id": "4tQQrWEnw1ox",
        "colab": {
          "base_uri": "https://localhost:8080/"
        },
        "outputId": "55a46222-6b00-45d1-a5d1-557d9f74b0f7"
      },
      "source": [
        "# percent of non-minority citations which were tickets\n",
        "\n",
        "white_ticket_pct = sz['W']['T']/ sum(sz['W'])\n",
        "\n",
        "print(white_ticket_pct)"
      ],
      "execution_count": null,
      "outputs": [
        {
          "output_type": "stream",
          "name": "stdout",
          "text": [
            "0.5061620939766636\n"
          ]
        }
      ]
    },
    {
      "cell_type": "markdown",
      "metadata": {
        "id": "a0QjZetcw1oy"
      },
      "source": [
        "So even though non-white drivers make up a much smaller proportion of those stopped, we can see off the bat that their ticketing rate is higher than that of white drivers. We can do a visual comparison of this."
      ]
    },
    {
      "cell_type": "code",
      "metadata": {
        "id": "i96H595Mw1oy"
      },
      "source": [
        "pd.DataFrame([minority_ticket_pct , white_ticket_pct])"
      ],
      "execution_count": null,
      "outputs": []
    },
    {
      "cell_type": "markdown",
      "metadata": {
        "id": "PCTgoqQ2w1oz"
      },
      "source": [
        "Of course, we still have the possibility of confounding factors, so we'll want to look at our other data columns for insight, in order to make sure we're comparing \"apples to apples\" as much as possible. Some other factors we have that might reasonably influence the ticketing rate are:  `MPHOVER` (how much over the speed limit the driver was), and perhaps age and sex. Legend also has it that traffic cops are harsher to drivers from out of town (`INTOWN` indicates where the driver was from.)\n",
        "\n",
        "Let's start by comparing histograms of the race and `MPHOVER`."
      ]
    },
    {
      "cell_type": "code",
      "metadata": {
        "id": "t-7_X9jZw1oz",
        "colab": {
          "base_uri": "https://localhost:8080/",
          "height": 282
        },
        "outputId": "3d777bbb-7005-4539-aac3-375a0b052611"
      },
      "source": [
        "tw['MPHOVER'].hist()"
      ],
      "execution_count": null,
      "outputs": [
        {
          "output_type": "execute_result",
          "data": {
            "text/plain": [
              "<matplotlib.axes._subplots.AxesSubplot at 0x7f156bfbfa50>"
            ]
          },
          "metadata": {},
          "execution_count": 18
        },
        {
          "output_type": "display_data",
          "data": {
            "text/plain": [
              "<Figure size 432x288 with 1 Axes>"
            ],
            "image/png": "[encoded data removed]"
          },
          "metadata": {
            "needs_background": "light"
          }
        }
      ]
    },
    {
      "cell_type": "markdown",
      "metadata": {
        "id": "phKi0kSIw1o0"
      },
      "source": [
        "We've used `MPHOVER` because speed over the limit is probably more interesting than how fast in absolute terms. But checking raw `MPH`, we see a problem with the data: some of the entries don't record the speed! Fortunately, not very many. "
      ]
    },
    {
      "cell_type": "code",
      "metadata": {
        "id": "DGOXE92Ww1o0",
        "colab": {
          "base_uri": "https://localhost:8080/",
          "height": 282
        },
        "outputId": "a7a993cb-8564-4405-f4c9-0c5726a8d94b"
      },
      "source": [
        " # some of these values are zero, which can't be right\n",
        "\n",
        " tw['MPH'].hist()"
      ],
      "execution_count": null,
      "outputs": [
        {
          "output_type": "execute_result",
          "data": {
            "text/plain": [
              "<matplotlib.axes._subplots.AxesSubplot at 0x7f156c2e2a50>"
            ]
          },
          "metadata": {},
          "execution_count": 19
        },
        {
          "output_type": "display_data",
          "data": {
            "text/plain": [
              "<Figure size 432x288 with 1 Axes>"
            ],
            "image/png": "[encoded data removed]"
          },
          "metadata": {
            "needs_background": "light"
          }
        }
      ]
    },
    {
      "cell_type": "markdown",
      "metadata": {
        "id": "cMy1bOMUw1o1"
      },
      "source": [
        "Now let's compare the `MPHOVER` histograms for white and non-white drivers to see if the distributions are different."
      ]
    },
    {
      "cell_type": "code",
      "metadata": {
        "id": "qjhI39skw1o1",
        "colab": {
          "base_uri": "https://localhost:8080/",
          "height": 265
        },
        "outputId": "d0e7cbfc-96e5-491b-fa0b-7a00a8e68c58"
      },
      "source": [
        "# need dropna because some rows don't record speed\n",
        "\n",
        "white_filter = tw['MINORITY'] == 'W'\n",
        "minority_filter = tw['MINORITY'] == 'M'\n",
        "\n",
        "white_mph_over = tw[white_filter]['MPHOVER'].dropna()\n",
        "minority_mph_over = tw[minority_filter]['MPHOVER'].dropna()\n",
        "\n",
        "# define the bins of the histogram\n",
        "\n",
        "bins = np.linspace(0,100,20)\n",
        "\n",
        "# set the transparency to 50% so we can see both simultaneously\n",
        "\n",
        "plt.hist(white_mph_over, bins, alpha = 0.5)\n",
        "plt.hist(minority_mph_over, bins, alpha = 0.5)\n",
        "plt.show()"
      ],
      "execution_count": null,
      "outputs": [
        {
          "output_type": "display_data",
          "data": {
            "text/plain": [
              "<Figure size 432x288 with 1 Axes>"
            ],
            "image/png": "[encoded data removed]"
          },
          "metadata": {
            "needs_background": "light"
          }
        }
      ]
    },
    {
      "cell_type": "markdown",
      "metadata": {
        "id": "yNF2kTxkw1o2"
      },
      "source": [
        "Still very hard to see, because the scaling is so different. Let's normalize the histograms to display percentages instead of counts."
      ]
    },
    {
      "cell_type": "code",
      "metadata": {
        "id": "1Ci5aEc6w1o2",
        "colab": {
          "base_uri": "https://localhost:8080/",
          "height": 265
        },
        "outputId": "6d979b37-430c-4b6f-e51e-8450e2d3f816"
      },
      "source": [
        "# the density parameter makes this a percentage, rather than a raw count\n",
        "plt.hist(white_mph_over, bins, alpha = 0.5, density=True ); \n",
        "plt.hist(minority_mph_over, bins, alpha = 0.5, density=True);"
      ],
      "execution_count": null,
      "outputs": [
        {
          "output_type": "display_data",
          "data": {
            "text/plain": [
              "<Figure size 432x288 with 1 Axes>"
            ],
            "image/png": "[encoded data removed]"
          },
          "metadata": {
            "needs_background": "light"
          }
        }
      ]
    },
    {
      "cell_type": "markdown",
      "metadata": {
        "id": "UnSlrvXEw1o2"
      },
      "source": [
        "Hmm, they look pretty close. The minorities plot has a slightly fatter tail, but not sigificantly. Since the distributions also look *reasonably* \"normal\" let's take a look at the averages, just to get another sense."
      ]
    },
    {
      "cell_type": "code",
      "metadata": {
        "id": "Ck8UbJLNw1o3",
        "colab": {
          "base_uri": "https://localhost:8080/"
        },
        "outputId": "4b5f6310-8042-4ef2-a9b1-5df1a7735545"
      },
      "source": [
        "print(white_mph_over.mean())\n",
        "print(white_mph_over.median())"
      ],
      "execution_count": null,
      "outputs": [
        {
          "output_type": "stream",
          "name": "stdout",
          "text": [
            "15.066798170895723\n",
            "15.0\n"
          ]
        }
      ]
    },
    {
      "cell_type": "code",
      "metadata": {
        "id": "bTvFUavCw1o3",
        "colab": {
          "base_uri": "https://localhost:8080/"
        },
        "outputId": "68e8d85a-9581-44b0-b74b-5dbfd659a614"
      },
      "source": [
        "print(minority_mph_over.mean())\n",
        "print(minority_mph_over.median())"
      ],
      "execution_count": null,
      "outputs": [
        {
          "output_type": "stream",
          "name": "stdout",
          "text": [
            "15.575303354746609\n",
            "15.0\n"
          ]
        }
      ]
    },
    {
      "cell_type": "markdown",
      "metadata": {
        "id": "c1EUU_08w1o3"
      },
      "source": [
        "So, only about half a mile an hour difference, on average, and exactly the same median value as well.\n",
        "\n",
        "As we noted above, there are many other factors that could be contributing to the difference in ticketing rate. Age and sex could be factors. In town or out of town drivers could matter. The `AGENCY` column records whether the stop was made by Massechusets state police, Boston police, or all other police departments, and that could matter both in terms of how the different agencies operate and in terms of who is driving within their jurisdiction. \n",
        "\n",
        "For our purposes, bias means that minorities get a ticket more often than white people *when everything else is equal.* Is everything else equal? Let's plot a pile of histograms and take a look."
      ]
    },
    {
      "cell_type": "code",
      "metadata": {
        "id": "8Y5uFhoMw1o4"
      },
      "source": [
        "# define a function to generate comparative charts of white vs. non-white drivers, based on the column name passed in\n",
        "def comparehist(colname):\n",
        "    w = tw[tw['MINORITY']=='W'][colname].dropna()\n",
        "    m = tw[tw['MINORITY']=='M'][colname].dropna()\n",
        "    \n",
        "    if tw[colname].dtype == np.float64:\n",
        "        # it's numeric, plot a histogram\n",
        "        bins = np.linspace(0, 100, 20)\n",
        "        plt.hist(w,bins,alpha=0.5,density=True)\n",
        "        plt.hist(m,bins,alpha=0.5,density=True)\n",
        "    else:\n",
        "        # if not numerical, assume it's categorical and plot a bar chart of value counts normalized to percentages\n",
        "        wc = w.value_counts()\n",
        "        wc /= sum(wc)\n",
        "        plt.bar(wc.index, wc, alpha=0.5)\n",
        "        mc = m.value_counts()\n",
        "        mc /= sum(mc)\n",
        "        plt.bar(mc.index, mc, alpha=0.5)\n",
        "        \n",
        "    plt.title(colname)\n",
        "    plt.show()"
      ],
      "execution_count": null,
      "outputs": []
    },
    {
      "cell_type": "code",
      "metadata": {
        "id": "COocbN9yw1o4",
        "colab": {
          "base_uri": "https://localhost:8080/",
          "height": 1000
        },
        "outputId": "cfb44f4c-08c5-4b76-b457-3d726333662a"
      },
      "source": [
        "comparehist('AGE')\n",
        "comparehist('SEX')\n",
        "comparehist('MPH')\n",
        "comparehist('MPHOVER')\n",
        "comparehist('AGENCY3')\n",
        "comparehist('INTOWN')\n"
      ],
      "execution_count": null,
      "outputs": [
        {
          "output_type": "display_data",
          "data": {
            "text/plain": [
              "<Figure size 432x288 with 1 Axes>"
            ],
            "image/png": "[encoded data removed]"
          },
          "metadata": {
            "needs_background": "light"
          }
        },
        {
          "output_type": "display_data",
          "data": {
            "text/plain": [
              "<Figure size 432x288 with 1 Axes>"
            ],
            "image/png": "[encoded data removed]"
          },
          "metadata": {
            "needs_background": "light"
          }
        },
        {
          "output_type": "display_data",
          "data": {
            "text/plain": [
              "<Figure size 432x288 with 1 Axes>"
            ],
            "image/png": "[encoded data removed]"
          },
          "metadata": {
            "needs_background": "light"
          }
        },
        {
          "output_type": "display_data",
          "data": {
            "text/plain": [
              "<Figure size 432x288 with 1 Axes>"
            ],
            "image/png": "[encoded data removed]"
          },
          "metadata": {
            "needs_background": "light"
          }
        },
        {
          "output_type": "display_data",
          "data": {
            "text/plain": [
              "<Figure size 432x288 with 1 Axes>"
            ],
            "image/png": "[encoded data removed]"
          },
          "metadata": {
            "needs_background": "light"
          }
        },
        {
          "output_type": "display_data",
          "data": {
            "text/plain": [
              "<Figure size 432x288 with 1 Axes>"
            ],
            "image/png": "[encoded data removed]"
          },
          "metadata": {
            "needs_background": "light"
          }
        }
      ]
    },
    {
      "cell_type": "markdown",
      "metadata": {
        "id": "xg8h1Tztw1o4"
      },
      "source": [
        "What can we say here? The minority drivers in this sample have more people in their 20s, skew male, are going slightly faster when they're pulled over, are less likely to be stopped by local police and more likely to be stopped by Boston police, and tend to be from \"out of town\" more often. Any or all of these effects could account for the difference in ticketing rates. There could even be interactions here: suppose Boston police are harder on people who drive more than 10 mph over the limit. These minority drivers are both more commonly in Boston and going faster on average."
      ]
    },
    {
      "cell_type": "markdown",
      "metadata": {
        "id": "obwBUMm1w1o5"
      },
      "source": [
        "### Enter logistic regression\n",
        "We're going to use regression to try to analyze the relationships between the variables and whether someone gets a ticket. But because the variable we are trying to predict is binary, we'll be using a *logistic* regression. As you'll see below, the process is nearly identical, except that instead of fitting a line to our data, we'll be fitting a curve."
      ]
    },
    {
      "cell_type": "code",
      "metadata": {
        "id": "qnle8q7vw1o5"
      },
      "source": [
        "from sklearn.linear_model import LinearRegression,LogisticRegression"
      ],
      "execution_count": null,
      "outputs": []
    },
    {
      "cell_type": "markdown",
      "metadata": {
        "id": "x-NfPkhYw1o6"
      },
      "source": [
        "To set up the regression, let's look at a graph of MPH over the limit on the x axis, vs. whether the driver got a ticket on the y axis, represented as 0 or 1. "
      ]
    },
    {
      "cell_type": "code",
      "metadata": {
        "id": "vso2-R0Nw1o6"
      },
      "source": [
        "# add a column called 'TICKETED' that is 1 (true) if they got a ticket instead of a warning\n",
        "\n",
        "\n",
        "# Remove rows where MPH is unknown\n"
      ],
      "execution_count": null,
      "outputs": []
    },
    {
      "cell_type": "code",
      "metadata": {
        "id": "krTA8fSow1o6"
      },
      "source": [
        "# sort by MPHOVER (makes the plotting below simpler)\n"
      ],
      "execution_count": null,
      "outputs": []
    },
    {
      "cell_type": "code",
      "metadata": {
        "id": "UzxqJXAdw1o7"
      },
      "source": [
        "# even though our \"y\" values are only 0 or 1, we can still put them on a scatter plot, though we get lines instead of clusters\n"
      ],
      "execution_count": null,
      "outputs": []
    },
    {
      "cell_type": "markdown",
      "metadata": {
        "id": "u8R_Qglrw1o7"
      },
      "source": [
        "Based on the dots that appear farther to the right for y=1 (BUSTED=True), we migth expect that this data has a general \"upward slope.\" We can use use linear regression to try to fit a trend line to it, but it's not very satisfactory..."
      ]
    },
    {
      "cell_type": "code",
      "metadata": {
        "id": "4Fok--7Pw1o7"
      },
      "source": [
        "lm = LinearRegression()\n",
        "lm.fit(x,y)\n",
        "tw.plot(kind='scatter',x='MPHOVER',y='TICKETED')\n",
        "plt.plot(x,lm.predict(x),'-',color='m')"
      ],
      "execution_count": null,
      "outputs": []
    },
    {
      "cell_type": "markdown",
      "metadata": {
        "id": "CVsOyeTvw1o8"
      },
      "source": [
        "Let's apply logistic regression and plot the answer. To interpret the output, we take our normal y=mx+b line but run it through the logistic function."
      ]
    },
    {
      "cell_type": "code",
      "metadata": {
        "id": "3MmvRLi0w1o8"
      },
      "source": [
        "# Run the logistic regression (from sklearn) on our data, lm is the model\n",
        "\n",
        "# Adding the \"ravel()\" function call in order change the shape of the argument \n",
        "# see: https://stackoverflow.com/questions/34165731/a-column-vector-y-was-passed-when-a-1d-array-was-expected\n",
        "lm.fit(x,y.ravel())\n",
        "\n",
        "\n",
        "\n",
        "# plot original data\n",
        "tw.plot(kind='scatter',x='MPHOVER',y='TICKETED')\n",
        "\n",
        "# Now plot the prediction of the fitted model. Does the code look familiar?\n",
        "m = lm.coef_[0]\n",
        "b = lm.intercept_\n",
        "line_y = m*x+b\n",
        "\n",
        "# define a logistic function\n",
        "def logistic(x):\n",
        "    return 1 / (1 + np.exp(-x))\n",
        "\n",
        "prediction = logistic(line_y) \n",
        "plt.plot(x, prediction, '-', color='m')\n"
      ],
      "execution_count": null,
      "outputs": []
    },
    {
      "cell_type": "markdown",
      "metadata": {
        "id": "7iMkrBz1w1o8"
      },
      "source": [
        "We can do the same thing with the `predict_proba` function (though it returns two columns: one is the probability of  FALSE and the other is the probability of TRUE, so we plot only the second column)"
      ]
    },
    {
      "cell_type": "code",
      "metadata": {
        "id": "WySqTo_xw1o9"
      },
      "source": [
        ""
      ],
      "execution_count": null,
      "outputs": []
    },
    {
      "cell_type": "code",
      "metadata": {
        "id": "gz2hcLTkw1o9"
      },
      "source": [
        "from sklearn.metrics import classification_report, confusion_matrix\n",
        "\n",
        "cm = confusion_matrix(y.ravel(), lm.predict(x))\n",
        "\n",
        "print(cm)\n",
        "print(lm.score(x, y))\n",
        "\n",
        "\n",
        "# To get the odds ratio, we use the following formula:\n",
        "np.exp(lm.coef_)"
      ],
      "execution_count": null,
      "outputs": []
    },
    {
      "cell_type": "code",
      "metadata": {
        "id": "otKu3Ntjw1o9"
      },
      "source": [
        "fig, ax = plt.subplots(figsize=(8, 8))\n",
        "ax.imshow(cm,cmap='gray')\n",
        "ax.grid(False)\n",
        "ax.xaxis.set(ticks=(0, 1), ticklabels=('Predicted 0s', 'Predicted 1s'))\n",
        "ax.yaxis.set(ticks=(0, 1), ticklabels=('Actual 0s', 'Actual 1s'))\n",
        "ax.set_ylim(1.5, -0.5)\n",
        "for i in range(2):\n",
        "    for j in range(2):\n",
        "        ax.text(j, i, cm[i, j], ha='center', va='center', color='blue')\n",
        "plt.show()"
      ],
      "execution_count": null,
      "outputs": []
    },
    {
      "cell_type": "markdown",
      "metadata": {
        "id": "QsbOreHgw1o-"
      },
      "source": [
        "### Controlling for other variables\n",
        "\n",
        "Just like a linear regression, we can feed as many independent variables as we like into logistic regression. And just like linear regression, each coefficient in our logistic regression tells us how much a particular independent variable affects the odds of getting a ticket *if all other variables stay the same.*"
      ]
    },
    {
      "cell_type": "code",
      "metadata": {
        "id": "e2saSwFnw1o-"
      },
      "source": [
        "# Code these variables a binary: sex, race, \"in town\"\n",
        "tw.SEX = tw.SEX.replace({'M':0,'F':1, 'U':0})\n",
        "tw.MINORITY = tw.MINORITY.replace({'W':0,'M':1})\n",
        "tw.INTOWN = tw.INTOWN.replace({'N':0,'Y':1, 'U':0})\n",
        "\n",
        "# check for NA values\n",
        "print(tw.isna().sum())"
      ],
      "execution_count": null,
      "outputs": []
    },
    {
      "cell_type": "code",
      "metadata": {
        "id": "SYXhxspHw1o-"
      },
      "source": [
        "# remove rows with unknown ages, because there are so few\n"
      ],
      "execution_count": null,
      "outputs": []
    },
    {
      "cell_type": "code",
      "metadata": {
        "id": "4s9loLnkw1o-"
      },
      "source": [
        "# Do a logistic regression on many fields at the same time\n",
        "fields = ['MPHOVER','MINORITY','SEX', 'AGE', 'INTOWN']\n",
        "x = tw[fields].values\n",
        "y = tw[['TICKETED']].values\n",
        "lm = LogisticRegression() \n",
        "lm.fit(x,y.ravel())\n",
        "       \n",
        "# print out the odds ratios for each variable\n",
        "results = pd.DataFrame(np.exp(lm.coef_), columns=fields)\n",
        "print(results)"
      ],
      "execution_count": null,
      "outputs": []
    },
    {
      "cell_type": "markdown",
      "metadata": {
        "id": "2PlnkmUfw1o_"
      },
      "source": [
        "In other words, the independent variable that has the greatest impact on whether or not someone receives a ticket is whether or not they are a minority - even moreso than how many MPH over the speed limit they were going when they were stopped. This is the increased odds of getting a ticket if a driver was not white, if all the other independent variables in the model are held equal. "
      ]
    }
  ]
}