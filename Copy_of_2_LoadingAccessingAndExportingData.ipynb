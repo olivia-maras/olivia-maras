{
  "nbformat": 4,
  "nbformat_minor": 0,
  "metadata": {
    "kernelspec": {
      "display_name": "Python 3",
      "language": "python",
      "name": "python3"
    },
    "language_info": {
      "codemirror_mode": {
        "name": "ipython",
        "version": 3
      },
      "file_extension": ".py",
      "mimetype": "text/x-python",
      "name": "python",
      "nbconvert_exporter": "python",
      "pygments_lexer": "ipython3",
      "version": "3.8.3"
    },
    "colab": {
      "name": "Copy of  2-LoadingAccessingAndExportingData.ipynb",
      "provenance": [],
      "collapsed_sections": [],
      "include_colab_link": true
    }
  },
  "cells": [
    {
      "cell_type": "markdown",
      "metadata": {
        "id": "view-in-github",
        "colab_type": "text"
      },
      "source": [
        "<a href=\"https://colab.research.google.com/github/olivia-maras/olivia-maras/blob/main/Copy_of_2_LoadingAccessingAndExportingData.ipynb\" target=\"_parent\"><img src=\"https://colab.research.google.com/assets/colab-badge.svg\" alt=\"Open In Colab\"/></a>"
      ]
    },
    {
      "cell_type": "markdown",
      "source": [
        "### About Jupyter Notebooks\n",
        "\n",
        "This Google Colab notebook is an online version of a Jupyter Notebook, which uses a web browser as the interface for writing, running, and viewing the outputs of code. We will use Colab for the sake of consistency and convenience, but you can also [install and run the software on you computer](https://jupyter.org/) (if you want to do this work without an internet connection) for free.\n",
        "\n",
        "If you haven't used Jupypter Notebooks before, one thing to know ahead of time is that Jupyter Notebooks have two relevant types of \"cells\":\n",
        "\n",
        "The text you are reading now is part of a text \"markdown\" cell. You can use this to write notes and contextual information about your code, which can also be lightly-formatted using the styles described here: https://www.markdownguide.org/cheat-sheet/\n",
        "\n",
        "The cells below are code cells. When you hit the \"play\" button next to a code cell, it essentially does a combination of two things:\n",
        "\n",
        "Runs the code\n",
        "Prints out the \"results\"\n",
        "\n",
        "Comments (descriptive text that is part of the code but ignored by the computer) in Python are indicated by the hash (#) symbol. You will need one at the start of every line of comments, or in front of any line of code you want ignored:\n",
        "\n",
        "**Tip**: Commenting out code is a great way to quickly experiment with making changes to working code (or debugging code that isn't working), without losing your previous work! "
      ],
      "metadata": {
        "id": "TL4ovFc1q05X"
      }
    },
    {
      "cell_type": "markdown",
      "metadata": {
        "id": "gSBE8y8isyOo"
      },
      "source": [
        "### Accessing and Assessing Data in Python with Pandas\n",
        "\n",
        "If you're not already a little familiar with Python, hopefully you've watched the introductory videos shared before this course, which cover the basics of interacting with Python code, including data types, conditionals and looping. However, since our focus here is on working with data, that is where we'll spend the bulk of our time - specifically working with some of the excellent libraries that make Python such a powerful and versatile tool.\n",
        "\n",
        "For example, while \"raw\" Python comes with built-in support for working with a range of file types, for the most part we will be working with the well-known **pandas** library, which can import a wide range of data file formats (everything from CSVs to stata files), and has many useful methods for assessing and transforming that data.\n",
        "\n",
        "In this exercise, we're going to use pandas to look at daily vaccination data from around the world. Along the way, we're also going to carefully document what we do, to make sure that when we revisit this file in the future, we know what's going on."
      ]
    },
    {
      "cell_type": "code",
      "metadata": {
        "id": "awWXvleVsyOq"
      },
      "source": [
        "# first, import the pandas library, giving it a nickname of \"pd\" for short\n",
        "import pandas as pd"
      ],
      "execution_count": null,
      "outputs": []
    },
    {
      "cell_type": "markdown",
      "source": [
        "### Quirks of Colab\n",
        "\n",
        "Because we're running code online, the data we want to work with has to be online as well. There's a few different ways to access data in Colab, but the most straightforward (and reliable) way is to upload our data to Google Drive and use a little extra Python code to load data it into our notebook from there. The next couple of cells demonstrate how this is done. We'll read through the comments together so you can understand how to do this with your own data sets."
      ],
      "metadata": {
        "id": "c3MzOVY3tRtx"
      }
    },
    {
      "cell_type": "code",
      "metadata": {
        "id": "3aQkaHojtT3n"
      },
      "source": [
        "# THIS CODE REQUIRED FOR GOOGLE COLAB\n",
        "# Import PyDrive and associated libraries.\n",
        "# This only needs to be done once per notebook.\n",
        "# Documentation found here: https://colab.research.google.com/notebooks/io.ipynb#scrollTo=7taylj9wpsA2\n",
        "from pydrive.auth import GoogleAuth\n",
        "from pydrive.drive import GoogleDrive\n",
        "from google.colab import auth\n",
        "from oauth2client.client import GoogleCredentials\n",
        "\n",
        "# Authenticate and create the PyDrive client.\n",
        "# This only needs to be done once per notebook.\n",
        "auth.authenticate_user()\n",
        "gauth = GoogleAuth()\n",
        "gauth.credentials = GoogleCredentials.get_application_default()\n",
        "drive = GoogleDrive(gauth)"
      ],
      "execution_count": null,
      "outputs": []
    },
    {
      "cell_type": "code",
      "metadata": {
        "id": "ur1pi3KLtbtg",
        "colab": {
          "base_uri": "https://localhost:8080/"
        },
        "outputId": "f3306a8b-3859-4b08-8a1a-b5b6a283f271"
      },
      "source": [
        "# Link to data file stored in Drive: https://drive.google.com/file/d/10P11wZOuwlCN9krxokxmeryOK3mnMZby/view?usp=sharing\n",
        "# This will need to be a file that you have access to via the same Google Account you're using to run Colab.\n",
        "file_id = '10P11wZOuwlCN9krxokxmeryOK3mnMZby' # notice where this string comes from in link above\n",
        "\n",
        "imported_file = drive.CreateFile({'id': file_id}) # creating a local holding place for the target data file stored in Drive\n",
        "print(imported_file['title'])  # printing the title of the target file, so we can feel confident we've got the right one\n",
        "imported_file.GetContentFile(imported_file['title']) # actually load the data into our local variable, `imported_file`"
      ],
      "execution_count": null,
      "outputs": [
        {
          "output_type": "stream",
          "name": "stdout",
          "text": [
            "owid-covid-data.csv\n"
          ]
        }
      ]
    },
    {
      "cell_type": "markdown",
      "source": [
        "#### Loading different file types\n",
        "\n",
        "Most of the data we'll be working with here is formatted as comma-separated value (CSV) files, because it is such a common, efficient, open-soure data format. Of course, since we don't always have a choice about what format our source data arrives in, we'll also experiment with some other sources to see how simply Python and pandas can load data in a variety of formats."
      ],
      "metadata": {
        "id": "TVqGpie8ycJm"
      }
    },
    {
      "cell_type": "code",
      "metadata": {
        "id": "4T1fW26fsyOr"
      },
      "source": [
        "# our data is stored as a csv, so we'll use the `read_csv()` method.\n",
        "# similar methods exist for other data formats, e.g. `read_excel()` or `read_stata()`\n",
        "# for a complete list of these methods, see https://pandas.pydata.org/docs/reference/io.html\n",
        "\n",
        "# we're going to take care to name our dataframe and other variables descriptively\n",
        "# this will make reading our code later much more intuitive\n",
        "\n",
        "vaccine_data = pd.read_csv('owid-covid-data.csv')\n"
      ],
      "execution_count": null,
      "outputs": []
    },
    {
      "cell_type": "markdown",
      "metadata": {
        "id": "FP9hnIZ4syOq"
      },
      "source": [
        "**Pandas converts whatever data it reads into a \"dataframe.\" While dataframes can be used to perform most data operations that you would expect, the structure is sometimes slightly different than you might expect.**"
      ]
    },
    {
      "cell_type": "markdown",
      "source": [
        "### Getting a sense of our dataset\n",
        "\n",
        "If we haven't already previewed a particular data set in another program (e.g. a text file), usually it's helpful to get a basic overview of what it contains. pandas has a range of useful methods for generating a quick overview of what's in our data."
      ],
      "metadata": {
        "id": "1Xfy6CEkpA1T"
      }
    },
    {
      "cell_type": "code",
      "source": [
        "# by default, pandas adds an \"index\" column to every data frame\n",
        "# if we want to know the total number of rows with *any* data in them\n",
        "# we can use the `len()` method to get the length of this index column\n",
        "\n",
        "print(len(vaccine_data.index))"
      ],
      "metadata": {
        "id": "k09fgDkVo58T",
        "colab": {
          "base_uri": "https://localhost:8080/"
        },
        "outputId": "c7101a19-d7b4-495c-9dd6-43f6e9dae373"
      },
      "execution_count": null,
      "outputs": [
        {
          "output_type": "stream",
          "name": "stdout",
          "text": [
            "201270\n"
          ]
        }
      ]
    },
    {
      "cell_type": "code",
      "source": [
        "# what if we want to know how many cells are in our data set?\n",
        "\n",
        "# built in pandas method\n",
        "\n",
        "print(vaccine_data.size)\n",
        "\n",
        "#number of rows times number of columns\n",
        "print(vaccine_data.shape[0]*vaccine_data.shape[1])"
      ],
      "metadata": {
        "id": "C2IfEIVlt55T",
        "colab": {
          "base_uri": "https://localhost:8080/"
        },
        "outputId": "7cc721b9-e0c4-4a16-d192-c42a26634fce"
      },
      "execution_count": null,
      "outputs": [
        {
          "output_type": "stream",
          "name": "stdout",
          "text": [
            "13485090\n",
            "13485090\n"
          ]
        }
      ]
    },
    {
      "cell_type": "code",
      "source": [
        "# knowing what our column headers are is usually important as well\n",
        "\n",
        "print(vaccine_data.columns)"
      ],
      "metadata": {
        "id": "kL6rXkgft9I1",
        "colab": {
          "base_uri": "https://localhost:8080/"
        },
        "outputId": "09666c03-7a10-4efd-c59c-967cb46934ad"
      },
      "execution_count": null,
      "outputs": [
        {
          "output_type": "stream",
          "name": "stdout",
          "text": [
            "Index(['iso_code', 'continent', 'location', 'date', 'total_cases', 'new_cases',\n",
            "       'new_cases_smoothed', 'total_deaths', 'new_deaths',\n",
            "       'new_deaths_smoothed', 'total_cases_per_million',\n",
            "       'new_cases_per_million', 'new_cases_smoothed_per_million',\n",
            "       'total_deaths_per_million', 'new_deaths_per_million',\n",
            "       'new_deaths_smoothed_per_million', 'reproduction_rate', 'icu_patients',\n",
            "       'icu_patients_per_million', 'hosp_patients',\n",
            "       'hosp_patients_per_million', 'weekly_icu_admissions',\n",
            "       'weekly_icu_admissions_per_million', 'weekly_hosp_admissions',\n",
            "       'weekly_hosp_admissions_per_million', 'total_tests', 'new_tests',\n",
            "       'total_tests_per_thousand', 'new_tests_per_thousand',\n",
            "       'new_tests_smoothed', 'new_tests_smoothed_per_thousand',\n",
            "       'positive_rate', 'tests_per_case', 'tests_units', 'total_vaccinations',\n",
            "       'people_vaccinated', 'people_fully_vaccinated', 'total_boosters',\n",
            "       'new_vaccinations', 'new_vaccinations_smoothed',\n",
            "       'total_vaccinations_per_hundred', 'people_vaccinated_per_hundred',\n",
            "       'people_fully_vaccinated_per_hundred', 'total_boosters_per_hundred',\n",
            "       'new_vaccinations_smoothed_per_million',\n",
            "       'new_people_vaccinated_smoothed',\n",
            "       'new_people_vaccinated_smoothed_per_hundred', 'stringency_index',\n",
            "       'population', 'population_density', 'median_age', 'aged_65_older',\n",
            "       'aged_70_older', 'gdp_per_capita', 'extreme_poverty',\n",
            "       'cardiovasc_death_rate', 'diabetes_prevalence', 'female_smokers',\n",
            "       'male_smokers', 'handwashing_facilities', 'hospital_beds_per_thousand',\n",
            "       'life_expectancy', 'human_development_index',\n",
            "       'excess_mortality_cumulative_absolute', 'excess_mortality_cumulative',\n",
            "       'excess_mortality', 'excess_mortality_cumulative_per_million'],\n",
            "      dtype='object')\n"
          ]
        }
      ]
    },
    {
      "cell_type": "markdown",
      "source": [
        "## Accessing subsets of data\n",
        "\n",
        "There are all kinds of ways that we might want to access our data. We'll start here with ways to access data by row and/or column, then move on to how we can filter by e.g. a particular value. "
      ],
      "metadata": {
        "id": "IN1Q7B7CuGw-"
      }
    },
    {
      "cell_type": "markdown",
      "metadata": {
        "id": "2YyAVdKLsyO2"
      },
      "source": [
        "### Accessing data by position: `.iloc`\n",
        "\n",
        "The main ways of accessing data by position (e.g. row or column) is to use the functions `.loc` and `.iloc`\n",
        "\n",
        "You can think of these methods as \"location\" (`.loc`) and \"index location\" (`.iloc`), which can help when trying to remember which one to use. This means that we can _always_ use `.iloc`, because when pandas converts our data to a DataFrame, it creates an index for every row and column. This means we can use `.iloc` to get data by row, column, or any combination of the two. \n",
        "\n",
        "**Tip:** Remember here that Python is _zero-indexed_, and, in most cases, goes _up to but not including_ the second parameter provided when accessing data by index.\n",
        "\n"
      ]
    },
    {
      "cell_type": "code",
      "metadata": {
        "id": "Av8P34RFsyO3",
        "colab": {
          "base_uri": "https://localhost:8080/"
        },
        "outputId": "7506fca9-903f-43f0-e5ae-b49e4c1f16e4"
      },
      "source": [
        "# get the first ten rows of data\n",
        "# note that using the `.iloc` method here is not strictly required, but is helpful for readability and consistency\n",
        "\n",
        "first_ten = vaccine_data.iloc[0:10]\n",
        "print(first_ten)"
      ],
      "execution_count": null,
      "outputs": [
        {
          "output_type": "stream",
          "name": "stdout",
          "text": [
            "  iso_code continent     location        date  total_cases  new_cases  \\\n",
            "0      AFG      Asia  Afghanistan  2020-02-24          5.0        5.0   \n",
            "1      AFG      Asia  Afghanistan  2020-02-25          5.0        0.0   \n",
            "2      AFG      Asia  Afghanistan  2020-02-26          5.0        0.0   \n",
            "3      AFG      Asia  Afghanistan  2020-02-27          5.0        0.0   \n",
            "4      AFG      Asia  Afghanistan  2020-02-28          5.0        0.0   \n",
            "5      AFG      Asia  Afghanistan  2020-02-29          5.0        0.0   \n",
            "6      AFG      Asia  Afghanistan  2020-03-01          5.0        0.0   \n",
            "7      AFG      Asia  Afghanistan  2020-03-02          5.0        0.0   \n",
            "8      AFG      Asia  Afghanistan  2020-03-03          5.0        0.0   \n",
            "9      AFG      Asia  Afghanistan  2020-03-04          5.0        0.0   \n",
            "\n",
            "   new_cases_smoothed  total_deaths  new_deaths  new_deaths_smoothed  ...  \\\n",
            "0                 NaN           NaN         NaN                  NaN  ...   \n",
            "1                 NaN           NaN         NaN                  NaN  ...   \n",
            "2                 NaN           NaN         NaN                  NaN  ...   \n",
            "3                 NaN           NaN         NaN                  NaN  ...   \n",
            "4                 NaN           NaN         NaN                  NaN  ...   \n",
            "5               0.714           NaN         NaN                  NaN  ...   \n",
            "6               0.714           NaN         NaN                  NaN  ...   \n",
            "7               0.000           NaN         NaN                  NaN  ...   \n",
            "8               0.000           NaN         NaN                  NaN  ...   \n",
            "9               0.000           NaN         NaN                  NaN  ...   \n",
            "\n",
            "   female_smokers  male_smokers  handwashing_facilities  \\\n",
            "0             NaN           NaN                  37.746   \n",
            "1             NaN           NaN                  37.746   \n",
            "2             NaN           NaN                  37.746   \n",
            "3             NaN           NaN                  37.746   \n",
            "4             NaN           NaN                  37.746   \n",
            "5             NaN           NaN                  37.746   \n",
            "6             NaN           NaN                  37.746   \n",
            "7             NaN           NaN                  37.746   \n",
            "8             NaN           NaN                  37.746   \n",
            "9             NaN           NaN                  37.746   \n",
            "\n",
            "   hospital_beds_per_thousand  life_expectancy  human_development_index  \\\n",
            "0                         0.5            64.83                    0.511   \n",
            "1                         0.5            64.83                    0.511   \n",
            "2                         0.5            64.83                    0.511   \n",
            "3                         0.5            64.83                    0.511   \n",
            "4                         0.5            64.83                    0.511   \n",
            "5                         0.5            64.83                    0.511   \n",
            "6                         0.5            64.83                    0.511   \n",
            "7                         0.5            64.83                    0.511   \n",
            "8                         0.5            64.83                    0.511   \n",
            "9                         0.5            64.83                    0.511   \n",
            "\n",
            "   excess_mortality_cumulative_absolute  excess_mortality_cumulative  \\\n",
            "0                                   NaN                          NaN   \n",
            "1                                   NaN                          NaN   \n",
            "2                                   NaN                          NaN   \n",
            "3                                   NaN                          NaN   \n",
            "4                                   NaN                          NaN   \n",
            "5                                   NaN                          NaN   \n",
            "6                                   NaN                          NaN   \n",
            "7                                   NaN                          NaN   \n",
            "8                                   NaN                          NaN   \n",
            "9                                   NaN                          NaN   \n",
            "\n",
            "   excess_mortality  excess_mortality_cumulative_per_million  \n",
            "0               NaN                                      NaN  \n",
            "1               NaN                                      NaN  \n",
            "2               NaN                                      NaN  \n",
            "3               NaN                                      NaN  \n",
            "4               NaN                                      NaN  \n",
            "5               NaN                                      NaN  \n",
            "6               NaN                                      NaN  \n",
            "7               NaN                                      NaN  \n",
            "8               NaN                                      NaN  \n",
            "9               NaN                                      NaN  \n",
            "\n",
            "[10 rows x 67 columns]\n"
          ]
        }
      ]
    },
    {
      "cell_type": "code",
      "source": [
        "# get last ten rows of data using `.iloc`\n",
        "\n",
        "last_ten = vaccine_data.iloc[-10:][:]\n",
        "\n",
        "print(last_ten)"
      ],
      "metadata": {
        "id": "RExtalZv-rxF",
        "colab": {
          "base_uri": "https://localhost:8080/"
        },
        "outputId": "203dce01-e78d-40e8-9cf5-04fcf0d4634a"
      },
      "execution_count": null,
      "outputs": [
        {
          "output_type": "stream",
          "name": "stdout",
          "text": [
            "       iso_code continent  location        date  total_cases  new_cases  \\\n",
            "201260      ZWE    Africa  Zimbabwe  2022-07-05     255755.0       29.0   \n",
            "201261      ZWE    Africa  Zimbabwe  2022-07-06     255805.0       50.0   \n",
            "201262      ZWE    Africa  Zimbabwe  2022-07-07     255805.0        0.0   \n",
            "201263      ZWE    Africa  Zimbabwe  2022-07-08     255891.0       86.0   \n",
            "201264      ZWE    Africa  Zimbabwe  2022-07-09     255924.0       33.0   \n",
            "201265      ZWE    Africa  Zimbabwe  2022-07-10     255939.0       15.0   \n",
            "201266      ZWE    Africa  Zimbabwe  2022-07-11     255953.0       14.0   \n",
            "201267      ZWE    Africa  Zimbabwe  2022-07-12     255981.0       28.0   \n",
            "201268      ZWE    Africa  Zimbabwe  2022-07-13     255981.0        0.0   \n",
            "201269      ZWE    Africa  Zimbabwe  2022-07-14     256047.0       66.0   \n",
            "\n",
            "        new_cases_smoothed  total_deaths  new_deaths  new_deaths_smoothed  \\\n",
            "201260              53.143        5558.0         0.0                1.286   \n",
            "201261              40.714        5560.0         2.0                1.000   \n",
            "201262              31.286        5560.0         0.0                0.714   \n",
            "201263              43.571        5562.0         2.0                1.000   \n",
            "201264              48.286        5563.0         1.0                1.143   \n",
            "201265              50.429        5564.0         1.0                1.286   \n",
            "201266              32.429        5565.0         1.0                1.000   \n",
            "201267              32.286        5565.0         0.0                1.000   \n",
            "201268              25.143        5565.0         0.0                0.714   \n",
            "201269              34.571        5566.0         1.0                0.857   \n",
            "\n",
            "        ...  female_smokers  male_smokers  handwashing_facilities  \\\n",
            "201260  ...             1.6          30.7                  36.791   \n",
            "201261  ...             1.6          30.7                  36.791   \n",
            "201262  ...             1.6          30.7                  36.791   \n",
            "201263  ...             1.6          30.7                  36.791   \n",
            "201264  ...             1.6          30.7                  36.791   \n",
            "201265  ...             1.6          30.7                  36.791   \n",
            "201266  ...             1.6          30.7                  36.791   \n",
            "201267  ...             1.6          30.7                  36.791   \n",
            "201268  ...             1.6          30.7                  36.791   \n",
            "201269  ...             1.6          30.7                  36.791   \n",
            "\n",
            "        hospital_beds_per_thousand  life_expectancy  human_development_index  \\\n",
            "201260                         1.7            61.49                    0.571   \n",
            "201261                         1.7            61.49                    0.571   \n",
            "201262                         1.7            61.49                    0.571   \n",
            "201263                         1.7            61.49                    0.571   \n",
            "201264                         1.7            61.49                    0.571   \n",
            "201265                         1.7            61.49                    0.571   \n",
            "201266                         1.7            61.49                    0.571   \n",
            "201267                         1.7            61.49                    0.571   \n",
            "201268                         1.7            61.49                    0.571   \n",
            "201269                         1.7            61.49                    0.571   \n",
            "\n",
            "        excess_mortality_cumulative_absolute  excess_mortality_cumulative  \\\n",
            "201260                                   NaN                          NaN   \n",
            "201261                                   NaN                          NaN   \n",
            "201262                                   NaN                          NaN   \n",
            "201263                                   NaN                          NaN   \n",
            "201264                                   NaN                          NaN   \n",
            "201265                                   NaN                          NaN   \n",
            "201266                                   NaN                          NaN   \n",
            "201267                                   NaN                          NaN   \n",
            "201268                                   NaN                          NaN   \n",
            "201269                                   NaN                          NaN   \n",
            "\n",
            "        excess_mortality  excess_mortality_cumulative_per_million  \n",
            "201260               NaN                                      NaN  \n",
            "201261               NaN                                      NaN  \n",
            "201262               NaN                                      NaN  \n",
            "201263               NaN                                      NaN  \n",
            "201264               NaN                                      NaN  \n",
            "201265               NaN                                      NaN  \n",
            "201266               NaN                                      NaN  \n",
            "201267               NaN                                      NaN  \n",
            "201268               NaN                                      NaN  \n",
            "201269               NaN                                      NaN  \n",
            "\n",
            "[10 rows x 67 columns]\n"
          ]
        }
      ]
    },
    {
      "cell_type": "code",
      "source": [
        "# get a subset of rows and columns using integer-based indexing with `iloc`: \n",
        "# iloc[row index range, column index range]\n",
        "# note that the pandas-added index column is considered the first column \n",
        "\n",
        "some_subset = vaccine_data.iloc[0:3,0:4]\n",
        "print(some_subset)"
      ],
      "metadata": {
        "id": "t0VQggwc-zRN",
        "colab": {
          "base_uri": "https://localhost:8080/"
        },
        "outputId": "26c5bd7f-ccc4-4eb8-df15-608fdcacf510"
      },
      "execution_count": null,
      "outputs": [
        {
          "output_type": "stream",
          "name": "stdout",
          "text": [
            "  iso_code continent     location        date\n",
            "0      AFG      Asia  Afghanistan  2020-02-24\n",
            "1      AFG      Asia  Afghanistan  2020-02-25\n",
            "2      AFG      Asia  Afghanistan  2020-02-26\n"
          ]
        }
      ]
    },
    {
      "cell_type": "code",
      "source": [
        "# get all rows and subset of columns using integer-based indexing with `iloc`: \n",
        "# iloc[row index range, column index range]\n",
        "# note that the pandas-added index column is considered the first column\n",
        "\n",
        "four_cols = vaccine_data.iloc[:,0:4]\n",
        "\n",
        "print(four_cols)\n"
      ],
      "metadata": {
        "id": "N-_I0-6RELDC",
        "colab": {
          "base_uri": "https://localhost:8080/"
        },
        "outputId": "ae3b27fd-8b6b-4028-f674-62d14ae4a011"
      },
      "execution_count": null,
      "outputs": [
        {
          "output_type": "stream",
          "name": "stdout",
          "text": [
            "       iso_code continent     location        date\n",
            "0           AFG      Asia  Afghanistan  2020-02-24\n",
            "1           AFG      Asia  Afghanistan  2020-02-25\n",
            "2           AFG      Asia  Afghanistan  2020-02-26\n",
            "3           AFG      Asia  Afghanistan  2020-02-27\n",
            "4           AFG      Asia  Afghanistan  2020-02-28\n",
            "...         ...       ...          ...         ...\n",
            "201265      ZWE    Africa     Zimbabwe  2022-07-10\n",
            "201266      ZWE    Africa     Zimbabwe  2022-07-11\n",
            "201267      ZWE    Africa     Zimbabwe  2022-07-12\n",
            "201268      ZWE    Africa     Zimbabwe  2022-07-13\n",
            "201269      ZWE    Africa     Zimbabwe  2022-07-14\n",
            "\n",
            "[201270 rows x 4 columns]\n"
          ]
        }
      ]
    },
    {
      "cell_type": "markdown",
      "source": [
        "**Tip:** The format for index/positional access is \\[_index_ : _index_ \\]. In pandas, if only one argument is given, it's always interpreted as rows. If either value is absent, it's interpreted as \"from the beginning\" or \"until the end.\"\n",
        "\n",
        "+ \\[ : 20\\] becomes 0-20\n",
        "+ \\[ 10 : \\] becomes 10 until the end/highest index\n",
        "+ \\[ : \\] becomes \"beginning to end\", that is all rows or columns, depending on placement"
      ],
      "metadata": {
        "id": "20DFTOe-EhSp"
      }
    },
    {
      "cell_type": "markdown",
      "metadata": {
        "id": "fyK4QITrGDSL"
      },
      "source": [
        "### Accessing data by label: `.loc`\n",
        "\n",
        "Because pandas adds a numerical index column that effectively labels each row, we can also access data by a combination of row number and column header using the `.loc` method.\n",
        "\n",
        "To do this, of course, it would first be helpful to recall what our column headers are.\n",
        "\n"
      ]
    },
    {
      "cell_type": "code",
      "source": [
        ""
      ],
      "metadata": {
        "id": "Qw6ZZvzy-0Q-"
      },
      "execution_count": null,
      "outputs": []
    },
    {
      "cell_type": "code",
      "source": [
        "# print out the column headers of our data\n",
        "\n"
      ],
      "metadata": {
        "id": "_e49HQQNjQRv"
      },
      "execution_count": null,
      "outputs": []
    },
    {
      "cell_type": "code",
      "metadata": {
        "id": "kggpMMvasyO4",
        "colab": {
          "base_uri": "https://localhost:8080/"
        },
        "outputId": "00b93638-85ba-4720-b1ce-b40509bc9b84"
      },
      "source": [
        "# get a subset of rows **and** columns using label-based indexing with `loc`: \n",
        "# loc[row label range, column label list]\n",
        "# note that the pandas-added index column is shown even though it is not a true data column\n",
        "\n",
        "a_different_dozen = vaccine_data.loc[0:3, ['iso_code','continent','location','date']]\n",
        "\n",
        "print(a_different_dozen)"
      ],
      "execution_count": null,
      "outputs": [
        {
          "output_type": "stream",
          "name": "stdout",
          "text": [
            "  iso_code continent     location        date\n",
            "0      AFG      Asia  Afghanistan  2020-02-24\n",
            "1      AFG      Asia  Afghanistan  2020-02-25\n",
            "2      AFG      Asia  Afghanistan  2020-02-26\n",
            "3      AFG      Asia  Afghanistan  2020-02-27\n"
          ]
        }
      ]
    },
    {
      "cell_type": "code",
      "metadata": {
        "id": "wosnXslHsyO4"
      },
      "source": [
        "# get ALL columns for the first and third rows\n",
        "\n",
        "just_two_rows= vaccine.data.loc [0,2]"
      ],
      "execution_count": null,
      "outputs": []
    },
    {
      "cell_type": "markdown",
      "metadata": {
        "id": "aKrhLXBqsyO0"
      },
      "source": [
        "### Accessing subsets of data: \"slicing\" by cell value\n",
        "\n",
        "The most readable (and reusable) way to select, for example, all rows with a particular column value, is to use two steps:\n",
        "\n",
        "1. Assign the condition we want the returned rows to meet (e.g. the value in the `iso_code` column is `MEX`) to a well-named variable\n",
        "2. Use that variable as the selector from the original dataset\n",
        "\n",
        "This process will created a \"slice\" of our original DataFrame that we can use for additional operations and analysis.\n"
      ]
    },
    {
      "cell_type": "markdown",
      "metadata": {
        "id": "Vy7Hkh5jsyO0"
      },
      "source": [
        "**Let's look at all the data for Mexico.**\n"
      ]
    },
    {
      "cell_type": "code",
      "metadata": {
        "id": "sOxeKoj4syO0"
      },
      "source": [
        "# create a variable that describes the data values we are interested in\n",
        "\n",
        "just_MEX = vaccine_data['iso_code'] == 'MEX'"
      ],
      "execution_count": null,
      "outputs": []
    },
    {
      "cell_type": "code",
      "metadata": {
        "id": "ntRorjiBsyO1",
        "colab": {
          "base_uri": "https://localhost:8080/"
        },
        "outputId": "44822db0-067c-4810-f287-0243b55f3edc"
      },
      "source": [
        "# create a new variable that will hold the \"slice\" that meets our defined condition\n",
        "\n",
        "MEX_data = vaccine_data[just_MEX]\n",
        "\n",
        "print(MEX_data)"
      ],
      "execution_count": null,
      "outputs": [
        {
          "output_type": "stream",
          "name": "stdout",
          "text": [
            "       iso_code      continent location        date  total_cases  new_cases  \\\n",
            "116800      MEX  North America   Mexico  2020-01-01          NaN        NaN   \n",
            "116801      MEX  North America   Mexico  2020-01-02          NaN        NaN   \n",
            "116802      MEX  North America   Mexico  2020-01-03          NaN        NaN   \n",
            "116803      MEX  North America   Mexico  2020-01-04          NaN        NaN   \n",
            "116804      MEX  North America   Mexico  2020-01-05          NaN        NaN   \n",
            "...         ...            ...      ...         ...          ...        ...   \n",
            "117721      MEX  North America   Mexico  2022-07-10    6259325.0     9342.0   \n",
            "117722      MEX  North America   Mexico  2022-07-11    6265311.0     5986.0   \n",
            "117723      MEX  North America   Mexico  2022-07-12    6301645.0    36334.0   \n",
            "117724      MEX  North America   Mexico  2022-07-13    6338991.0    37346.0   \n",
            "117725      MEX  North America   Mexico  2022-07-14    6373876.0    34885.0   \n",
            "\n",
            "        new_cases_smoothed  total_deaths  new_deaths  new_deaths_smoothed  \\\n",
            "116800                 NaN           NaN         NaN                  NaN   \n",
            "116801                 NaN           NaN         NaN                  NaN   \n",
            "116802                 NaN           NaN         NaN                  NaN   \n",
            "116803                 NaN           NaN         NaN                  NaN   \n",
            "116804                 NaN           NaN         NaN                  NaN   \n",
            "...                    ...           ...         ...                  ...   \n",
            "117721           24246.429      326085.0         8.0               42.429   \n",
            "117722           24496.571      326097.0        12.0               43.429   \n",
            "117723           25691.000      326189.0        92.0               45.857   \n",
            "117724           26581.000      326261.0        72.0               47.571   \n",
            "117725           26951.000      326335.0        74.0               51.286   \n",
            "\n",
            "        ...  female_smokers  male_smokers  handwashing_facilities  \\\n",
            "116800  ...             6.9          21.4                  87.847   \n",
            "116801  ...             6.9          21.4                  87.847   \n",
            "116802  ...             6.9          21.4                  87.847   \n",
            "116803  ...             6.9          21.4                  87.847   \n",
            "116804  ...             6.9          21.4                  87.847   \n",
            "...     ...             ...           ...                     ...   \n",
            "117721  ...             6.9          21.4                  87.847   \n",
            "117722  ...             6.9          21.4                  87.847   \n",
            "117723  ...             6.9          21.4                  87.847   \n",
            "117724  ...             6.9          21.4                  87.847   \n",
            "117725  ...             6.9          21.4                  87.847   \n",
            "\n",
            "        hospital_beds_per_thousand  life_expectancy  human_development_index  \\\n",
            "116800                        1.38            75.05                    0.779   \n",
            "116801                        1.38            75.05                    0.779   \n",
            "116802                        1.38            75.05                    0.779   \n",
            "116803                        1.38            75.05                    0.779   \n",
            "116804                        1.38            75.05                    0.779   \n",
            "...                            ...              ...                      ...   \n",
            "117721                        1.38            75.05                    0.779   \n",
            "117722                        1.38            75.05                    0.779   \n",
            "117723                        1.38            75.05                    0.779   \n",
            "117724                        1.38            75.05                    0.779   \n",
            "117725                        1.38            75.05                    0.779   \n",
            "\n",
            "        excess_mortality_cumulative_absolute  excess_mortality_cumulative  \\\n",
            "116800                                   NaN                          NaN   \n",
            "116801                                   NaN                          NaN   \n",
            "116802                                   NaN                          NaN   \n",
            "116803                                   NaN                          NaN   \n",
            "116804                                 -28.7                        -0.17   \n",
            "...                                      ...                          ...   \n",
            "117721                                   NaN                          NaN   \n",
            "117722                                   NaN                          NaN   \n",
            "117723                                   NaN                          NaN   \n",
            "117724                                   NaN                          NaN   \n",
            "117725                                   NaN                          NaN   \n",
            "\n",
            "        excess_mortality  excess_mortality_cumulative_per_million  \n",
            "116800               NaN                                      NaN  \n",
            "116801               NaN                                      NaN  \n",
            "116802               NaN                                      NaN  \n",
            "116803               NaN                                      NaN  \n",
            "116804             -0.17                                 -0.22651  \n",
            "...                  ...                                      ...  \n",
            "117721               NaN                                      NaN  \n",
            "117722               NaN                                      NaN  \n",
            "117723               NaN                                      NaN  \n",
            "117724               NaN                                      NaN  \n",
            "117725               NaN                                      NaN  \n",
            "\n",
            "[926 rows x 67 columns]\n"
          ]
        }
      ]
    },
    {
      "cell_type": "markdown",
      "source": [
        "**Tip:** It's always a good idea to confirm the data type of e.g. a particular column before trying to create a filter variable for it, or you may get surprising results!"
      ],
      "metadata": {
        "id": "HY4RZfW_mNkk"
      }
    },
    {
      "cell_type": "code",
      "source": [
        "# show the current data type for every column in the data set\n",
        "# note that only the first 20 are output when we `print`!\n",
        "\n",
        "print(vaccine_data.dtypes)\n"
      ],
      "metadata": {
        "id": "Oo2rFy76mM60",
        "colab": {
          "base_uri": "https://localhost:8080/"
        },
        "outputId": "3e238bce-4933-455b-bf46-2b76535af3bb"
      },
      "execution_count": null,
      "outputs": [
        {
          "output_type": "stream",
          "name": "stdout",
          "text": [
            "iso_code                                    object\n",
            "continent                                   object\n",
            "location                                    object\n",
            "date                                        object\n",
            "total_cases                                float64\n",
            "                                            ...   \n",
            "human_development_index                    float64\n",
            "excess_mortality_cumulative_absolute       float64\n",
            "excess_mortality_cumulative                float64\n",
            "excess_mortality                           float64\n",
            "excess_mortality_cumulative_per_million    float64\n",
            "Length: 67, dtype: object\n"
          ]
        }
      ]
    },
    {
      "cell_type": "code",
      "metadata": {
        "id": "nxBde2mYsyO1",
        "colab": {
          "base_uri": "https://localhost:8080/"
        },
        "outputId": "d7440f81-8aca-48f3-f598-f907bfa3fa87"
      },
      "source": [
        "# now we know, for example, the the `date` column is actually an `object` data type,\n",
        "# so if we want to filter by date, we'll need to use make our filter a string, most likely  \n",
        "\n",
        "start_of_2020 = vaccine_data['date'] == '2020-01-01'\n",
        "\n",
        "print(vaccine_data[start_of_2020])"
      ],
      "execution_count": null,
      "outputs": [
        {
          "output_type": "stream",
          "name": "stdout",
          "text": [
            "       iso_code      continent   location        date  total_cases  new_cases  \\\n",
            "6902        ARG  South America  Argentina  2020-01-01          NaN        NaN   \n",
            "116800      MEX  North America     Mexico  2020-01-01          NaN        NaN   \n",
            "\n",
            "        new_cases_smoothed  total_deaths  new_deaths  new_deaths_smoothed  \\\n",
            "6902                   NaN           NaN         NaN                  NaN   \n",
            "116800                 NaN           NaN         NaN                  NaN   \n",
            "\n",
            "        ...  female_smokers  male_smokers  handwashing_facilities  \\\n",
            "6902    ...            16.2          27.7                     NaN   \n",
            "116800  ...             6.9          21.4                  87.847   \n",
            "\n",
            "        hospital_beds_per_thousand  life_expectancy  human_development_index  \\\n",
            "6902                          5.00            76.67                    0.845   \n",
            "116800                        1.38            75.05                    0.779   \n",
            "\n",
            "        excess_mortality_cumulative_absolute  excess_mortality_cumulative  \\\n",
            "6902                                     NaN                          NaN   \n",
            "116800                                   NaN                          NaN   \n",
            "\n",
            "        excess_mortality  excess_mortality_cumulative_per_million  \n",
            "6902                 NaN                                      NaN  \n",
            "116800               NaN                                      NaN  \n",
            "\n",
            "[2 rows x 67 columns]\n"
          ]
        }
      ]
    },
    {
      "cell_type": "markdown",
      "source": [
        "### Meeting multiple conditions\n",
        "\n",
        "A key advantage of creating variables to hold our various filters is that is allows us to write more reusable - and readable - code, especially when we want to find data that meets multiple conditions. Compare the two following ways to identify countries with more than 200,000 COVID deaths reported as of May 1, 2021."
      ],
      "metadata": {
        "id": "j0pBNKJWvbyI"
      }
    },
    {
      "cell_type": "code",
      "source": [
        "# selecting the data using a compound conditional directly\n",
        "\n",
        "over_200K_by_0521_all_one_statement = vaccine_data[(vaccine_data['date']=='2021-05-01') & (vaccine_data['total_deaths'] >= 200000)]\n",
        "\n",
        "print(over_200K_by_0521_all_one_statement)"
      ],
      "metadata": {
        "id": "lTcCHSDLydkD",
        "colab": {
          "base_uri": "https://localhost:8080/"
        },
        "outputId": "00666dd9-8d0e-4cee-cf6a-b89487552f60"
      },
      "execution_count": null,
      "outputs": [
        {
          "output_type": "stream",
          "name": "stdout",
          "text": [
            "        iso_code      continent             location        date  total_cases  \\\n",
            "10040   OWID_ASI            NaN                 Asia  2021-05-01   40032299.0   \n",
            "25533        BRA  South America               Brazil  2021-05-01   14733396.0   \n",
            "58694   OWID_EUR            NaN               Europe  2021-05-01   45278086.0   \n",
            "59598   OWID_EUN            NaN       European Union  2021-05-01   31167352.0   \n",
            "79149   OWID_HIC            NaN          High income  2021-05-01   73622287.0   \n",
            "83538        IND           Asia                India  2021-05-01   19557457.0   \n",
            "106931  OWID_LMC            NaN  Lower middle income  2021-05-01   32299117.0   \n",
            "117286       MEX  North America               Mexico  2021-05-01    2347780.0   \n",
            "133216  OWID_NAM            NaN        North America  2021-05-01   37728161.0   \n",
            "167961  OWID_SAM            NaN        South America  2021-05-01   25004014.0   \n",
            "190109       USA  North America        United States  2021-05-01   32500398.0   \n",
            "191832  OWID_UMC            NaN  Upper middle income  2021-05-01   46001226.0   \n",
            "198308  OWID_WRL            NaN                World  2021-05-01  152671968.0   \n",
            "\n",
            "        new_cases  new_cases_smoothed  total_deaths  new_deaths  \\\n",
            "10040    498588.0          491852.143      528743.0      5182.0   \n",
            "25533     58292.0           59725.143      406770.0      2240.0   \n",
            "58694    115972.0          130739.571     1020805.0      2561.0   \n",
            "59598     92556.0          104183.429      692224.0      1708.0   \n",
            "79149    170348.0          185878.429     1447873.0      2665.0   \n",
            "83538    392488.0          371040.714      215542.0      3689.0   \n",
            "106931   456327.0          438320.857      511133.0      5141.0   \n",
            "117286     3025.0            3006.000      217168.0       261.0   \n",
            "133216    63181.0           67354.571      846042.0      1135.0   \n",
            "167961   109642.0          119692.000      782248.0      3860.0   \n",
            "190109    48776.0           50032.429      572773.0       747.0   \n",
            "191832   167231.0          192908.714     1323892.0      5173.0   \n",
            "198308   795500.0          819550.429     3301121.0     13030.0   \n",
            "\n",
            "        new_deaths_smoothed  ...  female_smokers  male_smokers  \\\n",
            "10040              4997.143  ...             NaN           NaN   \n",
            "25533              2420.000  ...          10.100        17.900   \n",
            "58694              2925.429  ...             NaN           NaN   \n",
            "59598              2038.143  ...             NaN           NaN   \n",
            "79149              2861.000  ...             NaN           NaN   \n",
            "83538              3318.714  ...           1.900        20.600   \n",
            "106931             4895.000  ...             NaN           NaN   \n",
            "117286              330.714  ...           6.900        21.400   \n",
            "133216             1173.429  ...             NaN           NaN   \n",
            "167961             4369.857  ...             NaN           NaN   \n",
            "190109              694.714  ...          19.100        24.600   \n",
            "191832             5947.714  ...             NaN           NaN   \n",
            "198308            13786.000  ...           6.434        34.635   \n",
            "\n",
            "        handwashing_facilities  hospital_beds_per_thousand  life_expectancy  \\\n",
            "10040                      NaN                         NaN              NaN   \n",
            "25533                      NaN                       2.200            75.88   \n",
            "58694                      NaN                         NaN              NaN   \n",
            "59598                      NaN                         NaN              NaN   \n",
            "79149                      NaN                         NaN              NaN   \n",
            "83538                   59.550                       0.530            69.66   \n",
            "106931                     NaN                         NaN              NaN   \n",
            "117286                  87.847                       1.380            75.05   \n",
            "133216                     NaN                         NaN              NaN   \n",
            "167961                     NaN                         NaN              NaN   \n",
            "190109                     NaN                       2.770            78.86   \n",
            "191832                     NaN                         NaN              NaN   \n",
            "198308                  60.130                       2.705            72.58   \n",
            "\n",
            "        human_development_index  excess_mortality_cumulative_absolute  \\\n",
            "10040                       NaN                                   NaN   \n",
            "25533                     0.765                                   NaN   \n",
            "58694                       NaN                                   NaN   \n",
            "59598                       NaN                                   NaN   \n",
            "79149                       NaN                                   NaN   \n",
            "83538                     0.645                                   NaN   \n",
            "106931                      NaN                                   NaN   \n",
            "117286                    0.779                                   NaN   \n",
            "133216                      NaN                                   NaN   \n",
            "167961                      NaN                                   NaN   \n",
            "190109                    0.926                                   NaN   \n",
            "191832                      NaN                                   NaN   \n",
            "198308                    0.737                                   NaN   \n",
            "\n",
            "        excess_mortality_cumulative  excess_mortality  \\\n",
            "10040                           NaN               NaN   \n",
            "25533                           NaN               NaN   \n",
            "58694                           NaN               NaN   \n",
            "59598                           NaN               NaN   \n",
            "79149                           NaN               NaN   \n",
            "83538                           NaN               NaN   \n",
            "106931                          NaN               NaN   \n",
            "117286                          NaN               NaN   \n",
            "133216                          NaN               NaN   \n",
            "167961                          NaN               NaN   \n",
            "190109                          NaN               NaN   \n",
            "191832                          NaN               NaN   \n",
            "198308                          NaN               NaN   \n",
            "\n",
            "        excess_mortality_cumulative_per_million  \n",
            "10040                                       NaN  \n",
            "25533                                       NaN  \n",
            "58694                                       NaN  \n",
            "59598                                       NaN  \n",
            "79149                                       NaN  \n",
            "83538                                       NaN  \n",
            "106931                                      NaN  \n",
            "117286                                      NaN  \n",
            "133216                                      NaN  \n",
            "167961                                      NaN  \n",
            "190109                                      NaN  \n",
            "191832                                      NaN  \n",
            "198308                                      NaN  \n",
            "\n",
            "[13 rows x 67 columns]\n"
          ]
        }
      ]
    },
    {
      "cell_type": "code",
      "metadata": {
        "id": "XOdgWu-_syO2"
      },
      "source": [
        "# create a variable for each condition\n",
        "\n",
        "# we want the data column to be May 1st 2021\n",
        "\n",
        "may_first = vaccine_data['date'] = '2021-05-01'\n",
        "\n",
        "# total deaths column greater than or equal to 200K\n",
        "\n",
        "over_200k = vaccine_data['total_deaths'] >= 200000)\n",
        "\n",
        "# now much more readable\n",
        "\n",
        "over_200K_by_0521 = vaccine_data(may_first & over_200k)\n",
        "\n",
        "print\n",
        "\n"
      ],
      "execution_count": null,
      "outputs": []
    },
    {
      "cell_type": "markdown",
      "source": [
        "## Trip-ups and gotchas\n",
        "\n",
        "As powerful as it is, working with pandas (and with Colab) can create some surprising/unpredictable situations. We'll review a few common ones here.\n",
        "\n",
        "+ needing additional libraries e.g. for spss files\n",
        "+ downloading data needing an additional include"
      ],
      "metadata": {
        "id": "lQtVapKKy_Ej"
      }
    },
    {
      "cell_type": "markdown",
      "source": [
        "### Libraries that Colab doesn't have\n",
        "\n",
        "Colab as a **lot** of libraries installed by default, but that doesn't mean it will have every single one you need. Let's see what happens when we try to load the following SPSS `.sav` format file and read it into a pandas DataFrame."
      ],
      "metadata": {
        "id": "0FFBFD7YAr-M"
      }
    },
    {
      "cell_type": "code",
      "metadata": {
        "id": "CuZN5aQs25Ns"
      },
      "source": [
        "# THIS CODE REQUIRED FOR GOOGLE COLAB\n",
        "# Link to data file stored in Drive: https://drive.google.com/file/d/1JRkluXYs81IThAG7XFH0ng6Emi67H8oD/view?usp=sharing\n",
        "# This will need to be a file that you have access to via the same Google Account you're using to run Colab.\n",
        "sav_file_id = '1JRkluXYs81IThAG7XFH0ng6Emi67H8oD' # notice where this string comes from in link above\n",
        "\n",
        "imported_sav_file = drive.CreateFile({'id': sav_file_id}) # creating a local holding place for the target data file stored in Drive\n",
        "print(imported_sav_file['title'])  # printing the title of the target file, so we can feel confident we've got the right one\n",
        "imported_sav_file.GetContentFile(imported_sav_file['title']) # actually load the data into our local variable, `imported_file`"
      ],
      "execution_count": null,
      "outputs": []
    },
    {
      "cell_type": "code",
      "metadata": {
        "id": "7YZVzJTW3Ncd"
      },
      "source": [
        "# load our data"
      ],
      "execution_count": null,
      "outputs": []
    },
    {
      "cell_type": "markdown",
      "source": [
        "Fortunately, the error message here tells us most of what we need to know: both that we're missing a particular library, and the basics of how to get it. We'll use the recommended `!pip` method to install the library mentioned and try again."
      ],
      "metadata": {
        "id": "jKPqup66BFf3"
      }
    },
    {
      "cell_type": "code",
      "source": [
        ""
      ],
      "metadata": {
        "id": "luTrwBSr4AGt"
      },
      "execution_count": null,
      "outputs": []
    },
    {
      "cell_type": "code",
      "source": [
        "# let's try parsing that data with pandas one more time..."
      ],
      "metadata": {
        "id": "-pYlv5CWBfL_"
      },
      "execution_count": null,
      "outputs": []
    },
    {
      "cell_type": "code",
      "source": [
        ""
      ],
      "metadata": {
        "id": "xKpfd1aw4GI7"
      },
      "execution_count": null,
      "outputs": []
    },
    {
      "cell_type": "markdown",
      "source": [
        "Success! This gives us a basic outline for loading data from basically any type of file, like `.xls` and `.dta` files.\n",
        "\n",
        "https://drive.google.com/file/d/1YMTaM4a9aU3iqaAvd_ntpYy1NLyB8L6-/view?usp=sharing"
      ],
      "metadata": {
        "id": "BPRT732wBlVn"
      }
    },
    {
      "cell_type": "markdown",
      "source": [
        "Let's start with an `.xls` file"
      ],
      "metadata": {
        "id": "Q-NKyygZENpH"
      }
    },
    {
      "cell_type": "code",
      "source": [
        "# THIS CODE REQUIRED FOR GOOGLE COLAB\n",
        "# Link to data file stored in Drive: https://docs.google.com/spreadsheets/d/1k7aW8MG3YaoryuzcPbGnJ-4pb7j_5sS4/edit?usp=sharing\n",
        "# This will need to be a file that you have access to via the same Google Account you're using to run Colab.\n",
        "xls_file_id = '1k7aW8MG3YaoryuzcPbGnJ-4pb7j_5sS4' # notice where this string comes from in link above\n",
        "\n",
        "imported_xls_file = drive.CreateFile({'id': xls_file_id}) # creating a local holding place for the target data file stored in Drive\n",
        "print(imported_xls_file['title'])  # printing the title of the target file, so we can feel confident we've got the right one\n",
        "imported_xls_file.GetContentFile(imported_xls_file['title']) # actually load the data into our local variable, `imported_file`"
      ],
      "metadata": {
        "id": "d9M-G8CfC8Yz"
      },
      "execution_count": null,
      "outputs": []
    },
    {
      "cell_type": "code",
      "source": [
        "# let's try another data format"
      ],
      "metadata": {
        "id": "ZnePJukhC0PX"
      },
      "execution_count": null,
      "outputs": []
    },
    {
      "cell_type": "code",
      "source": [
        ""
      ],
      "metadata": {
        "id": "msVslYkpDggX"
      },
      "execution_count": null,
      "outputs": []
    },
    {
      "cell_type": "code",
      "source": [
        "# let's try that again"
      ],
      "metadata": {
        "id": "x2swTPjJEBhf"
      },
      "execution_count": null,
      "outputs": []
    },
    {
      "cell_type": "code",
      "source": [
        ""
      ],
      "metadata": {
        "id": "gNh0BgbbEETe"
      },
      "execution_count": null,
      "outputs": []
    },
    {
      "cell_type": "markdown",
      "source": [
        "Now we'll do a `.dta` (Stata) file."
      ],
      "metadata": {
        "id": "z1VOeeGwEWzO"
      }
    },
    {
      "cell_type": "code",
      "source": [
        "# THIS CODE REQUIRED FOR GOOGLE COLAB\n",
        "# Link to data file stored in Drive: https://drive.google.com/file/d/1YMTaM4a9aU3iqaAvd_ntpYy1NLyB8L6-/view?usp=sharing\n",
        "# This will need to be a file that you have access to via the same Google Account you're using to run Colab.\n",
        "dta_file_id = '1YMTaM4a9aU3iqaAvd_ntpYy1NLyB8L6-' # notice where this string comes from in link above\n",
        "\n",
        "imported_dta_file = drive.CreateFile({'id': dta_file_id}) # creating a local holding place for the target data file stored in Drive\n",
        "print(imported_dta_file['title'])  # printing the title of the target file, so we can feel confident we've got the right one\n",
        "imported_dta_file.GetContentFile(imported_dta_file['title']) # actually load the data into our local variable, `imported_file`"
      ],
      "metadata": {
        "id": "1hCny0MPEbO4"
      },
      "execution_count": null,
      "outputs": []
    },
    {
      "cell_type": "code",
      "source": [
        "# will this work \"out of the box?\""
      ],
      "metadata": {
        "id": "yvpZ2jQCEpLb"
      },
      "execution_count": null,
      "outputs": []
    },
    {
      "cell_type": "code",
      "source": [
        ""
      ],
      "metadata": {
        "id": "RmG_hvZ0E1s_"
      },
      "execution_count": null,
      "outputs": []
    },
    {
      "cell_type": "markdown",
      "source": [
        "## Downloading your data\n",
        "\n",
        "Whether you just want to transform a file into a friendlier format or output a new, filtered file to work with, exporting your data as a csv is pretty easy. We will need to load up one more Colab-specific library, but then we can download whatever we want (as long as it still exists in this runtime)!"
      ],
      "metadata": {
        "id": "1k6tmhoMFMul"
      }
    },
    {
      "cell_type": "code",
      "source": [
        "from google.colab import files\n",
        "\n",
        "# open a writable file and write our converted data to it"
      ],
      "metadata": {
        "id": "NpdxGr1ZGF54"
      },
      "execution_count": null,
      "outputs": []
    },
    {
      "cell_type": "code",
      "source": [
        "# note that we can do this for any DataFrame we've defined"
      ],
      "metadata": {
        "id": "f4L7HEKnHxzt"
      },
      "execution_count": null,
      "outputs": []
    }
  ]
}