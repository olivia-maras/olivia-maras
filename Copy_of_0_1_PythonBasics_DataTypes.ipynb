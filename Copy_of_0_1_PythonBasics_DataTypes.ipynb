{
  "nbformat": 4,
  "nbformat_minor": 0,
  "metadata": {
    "kernelspec": {
      "display_name": "Python 3",
      "language": "python",
      "name": "python3"
    },
    "language_info": {
      "codemirror_mode": {
        "name": "ipython",
        "version": 3
      },
      "file_extension": ".py",
      "mimetype": "text/x-python",
      "name": "python",
      "nbconvert_exporter": "python",
      "pygments_lexer": "ipython3",
      "version": "3.8.3"
    },
    "colab": {
      "name": "Copy of 0.1-PythonBasics-DataTypes.ipynb",
      "provenance": [],
      "collapsed_sections": [],
      "include_colab_link": true
    }
  },
  "cells": [
    {
      "cell_type": "markdown",
      "metadata": {
        "id": "view-in-github",
        "colab_type": "text"
      },
      "source": [
        "<a href=\"https://colab.research.google.com/github/olivia-maras/olivia-maras/blob/main/Copy_of_0_1_PythonBasics_DataTypes.ipynb\" target=\"_parent\"><img src=\"https://colab.research.google.com/assets/colab-badge.svg\" alt=\"Open In Colab\"/></a>"
      ]
    },
    {
      "cell_type": "markdown",
      "metadata": {
        "id": "DlDoCP1C-DGK"
      },
      "source": [
        "### About Jupyter Notebooks\n",
        "\n",
        "Jupyter Notebooks have two relevant types of \"cells\":\n",
        "\n",
        "This is a \"markdown\" cell, which is useful for adding lightly-formatted context and documentation to your notebook. You can learn more about markdown here: https://www.markdownguide.org/cheat-sheet/\n",
        "\n",
        "The cells below are code cells. When you hit the \"play\" button next to a code cell, it essentially does a combination of two things:\n",
        "\n",
        "Runs the code\n",
        "Prints out the \"results\"\n",
        "\n",
        "Comments are indicated by the hash (#) symbol. You will need one at the start of every line of comments."
      ]
    },
    {
      "cell_type": "markdown",
      "metadata": {
        "id": "l1uPq5ed-DGN"
      },
      "source": [
        "## The Python \"Parts of Speech\"\n",
        "\n",
        "I like to approach programming languages as just that - languages. Often the first part of learning a new language is reviewing the \"parts of speech\", such as nouns, verbs &c. In English, we often classify nouns as being a \"person, place, or thing.\" The parallel in programming is the data types that a variable can have. In Python, variables can be one of a range of data types, some of which are (somewhat) unique to Python. Here we'll focus on the most common, with some discussion of the others as they come up."
      ]
    },
    {
      "cell_type": "markdown",
      "metadata": {
        "id": "Rg-3TDDr-DGO"
      },
      "source": [
        "### Python Data Types\n",
        "\n",
        "##### Common\n",
        " * Numbers (int, float, complex)\n",
        " * String \n",
        " * List \n",
        " * Dict\n",
        " * Boolean\n",
        " \n",
        "##### Less Common\n",
        "\n",
        " * Tuple\n",
        " * Set\n",
        " \n",
        "##### Relatively Rare\n",
        "\n",
        "* Bytes\n",
        "* ByteArray\n",
        "* MemoryView"
      ]
    },
    {
      "cell_type": "code",
      "metadata": {
        "id": "iBNQwpFZ_qLF",
        "colab": {
          "base_uri": "https://localhost:8080/"
        },
        "outputId": "e0c6bf2d-04c6-421f-e9fe-89585666f738"
      },
      "source": [
        "# A number is just digits\n",
        "25"
      ],
      "execution_count": null,
      "outputs": [
        {
          "output_type": "execute_result",
          "data": {
            "text/plain": [
              "25"
            ]
          },
          "metadata": {},
          "execution_count": 1
        }
      ]
    },
    {
      "cell_type": "code",
      "metadata": {
        "id": "Kq-ud0r0O9i-",
        "colab": {
          "base_uri": "https://localhost:8080/",
          "height": 35
        },
        "outputId": "b1ff0ce3-1303-4d30-8fd0-a33766680bb0"
      },
      "source": [
        "# A string is anything surrounded by matching quotation marks\n",
        "\"Hello World\""
      ],
      "execution_count": null,
      "outputs": [
        {
          "output_type": "execute_result",
          "data": {
            "text/plain": [
              "'Hello World'"
            ],
            "application/vnd.google.colaboratory.intrinsic+json": {
              "type": "string"
            }
          },
          "metadata": {},
          "execution_count": 2
        }
      ]
    },
    {
      "cell_type": "code",
      "metadata": {
        "id": "Hk-WuYRTP1L_",
        "colab": {
          "base_uri": "https://localhost:8080/"
        },
        "outputId": "1dae246a-69c8-474b-bf9d-aba260b5a9d2"
      },
      "source": [
        "# A list is surrounded by square brackets, with commas in between items\n",
        "[\"this\", \"is\", \"1\", \"list\"]"
      ],
      "execution_count": null,
      "outputs": [
        {
          "output_type": "execute_result",
          "data": {
            "text/plain": [
              "['this', 'is', '1', 'list']"
            ]
          },
          "metadata": {},
          "execution_count": 3
        }
      ]
    },
    {
      "cell_type": "code",
      "metadata": {
        "id": "oJtrEMiKPLGA",
        "colab": {
          "base_uri": "https://localhost:8080/"
        },
        "outputId": "390ce783-dcd9-4918-f0b1-fc8d7b911dce"
      },
      "source": [
        "# A dict is a set of key:value paris, separated by commas and surrounded by curly braces\n",
        "{\"title\":\"Data Wrangling Boot Camp\", \n",
        " \"format\":\"workshop\"\n",
        "}"
      ],
      "execution_count": null,
      "outputs": [
        {
          "output_type": "execute_result",
          "data": {
            "text/plain": [
              "{'format': 'workshop', 'title': 'Data Wrangling Boot Camp'}"
            ]
          },
          "metadata": {},
          "execution_count": 4
        }
      ]
    },
    {
      "cell_type": "code",
      "metadata": {
        "id": "46qDN0J7QMeI",
        "colab": {
          "base_uri": "https://localhost:8080/"
        },
        "outputId": "45589740-f246-45a1-95f2-69e230ba4481"
      },
      "source": [
        "# A Boolean is a data type that has only two values, true and false\n",
        "True "
      ],
      "execution_count": null,
      "outputs": [
        {
          "output_type": "execute_result",
          "data": {
            "text/plain": [
              "True"
            ]
          },
          "metadata": {},
          "execution_count": 5
        }
      ]
    },
    {
      "cell_type": "code",
      "metadata": {
        "id": "zN5vWReJSzZm"
      },
      "source": [
        "# Tuples and sets are both immutable - their contents cannot be changed once they're declared\n",
        "\n",
        "# Tuples are ordered and allow duplicates\n",
        "\n",
        "# Sets are unordered, and do not allow duplictes - this can make them handy for reviewing data values"
      ],
      "execution_count": null,
      "outputs": []
    },
    {
      "cell_type": "markdown",
      "metadata": {
        "id": "lQ4FfJFt-DGU"
      },
      "source": [
        "### Python is \"Duck-Typed\"\n",
        "\n",
        "##### \"If it quacks like a...\"\n",
        "\n",
        "Variables do not need their data types declared, nor is type-checking generally applied (or recommended) in Python. Instead, Python will attempt an operation with whatever it is given, and throw an error if it doesn't work. There is also no keyword used to indicate that a variable is being introduced."
      ]
    },
    {
      "cell_type": "markdown",
      "metadata": {
        "id": "9vxl31RF-DGU"
      },
      "source": [
        "**You do not need to specify which type of numeric content a variable contains and you do not need to do anything special to perform basic operations**"
      ]
    },
    {
      "cell_type": "code",
      "metadata": {
        "id": "yGuSlEq9UIdz",
        "colab": {
          "base_uri": "https://localhost:8080/"
        },
        "outputId": "971822fb-5551-4f24-857d-53966c99f3bf"
      },
      "source": [
        "my_num = 25\n",
        "another_num = 14.5\n",
        "\n",
        "print(my_num + another_num)"
      ],
      "execution_count": null,
      "outputs": [
        {
          "output_type": "stream",
          "name": "stdout",
          "text": [
            "39.5\n"
          ]
        }
      ]
    },
    {
      "cell_type": "markdown",
      "metadata": {
        "id": "NrueoF5Z-DGV"
      },
      "source": [
        "**Strings can be joined or concatenated with the `+` operator**"
      ]
    },
    {
      "cell_type": "code",
      "metadata": {
        "id": "Q5bGZn1MVRtf",
        "colab": {
          "base_uri": "https://localhost:8080/"
        },
        "outputId": "1645f887-1b05-4389-d80a-68408894948e"
      },
      "source": [
        "my_greeting = \"Hello World\"\n",
        "longer_greeting = my_greeting + \",how are you?\"\n",
        "print(longer_greeting)"
      ],
      "execution_count": null,
      "outputs": [
        {
          "output_type": "stream",
          "name": "stdout",
          "text": [
            "Hello World,how are you?\n"
          ]
        }
      ]
    },
    {
      "cell_type": "markdown",
      "metadata": {
        "id": "QTS3SPsk-DGW"
      },
      "source": [
        "**However, if you want to join strings and numbers, you will have to cast the number as a string first**"
      ]
    },
    {
      "cell_type": "code",
      "metadata": {
        "id": "7iwyffPGVhoO",
        "colab": {
          "base_uri": "https://localhost:8080/",
          "height": 204
        },
        "outputId": "68fd5563-dbbe-498e-b7d5-8deaa73ca62b"
      },
      "source": [
        "# this will throw an error\n",
        "my_statement = \"I am\" + my_num + \" years old.\"\n",
        "print(my_statement)"
      ],
      "execution_count": null,
      "outputs": [
        {
          "output_type": "error",
          "ename": "TypeError",
          "evalue": "ignored",
          "traceback": [
            "\u001b[0;31m---------------------------------------------------------------------------\u001b[0m",
            "\u001b[0;31mTypeError\u001b[0m                                 Traceback (most recent call last)",
            "\u001b[0;32m<ipython-input-10-b5bd18e90526>\u001b[0m in \u001b[0;36m<module>\u001b[0;34m()\u001b[0m\n\u001b[1;32m      1\u001b[0m \u001b[0;31m# this will throw an error\u001b[0m\u001b[0;34m\u001b[0m\u001b[0;34m\u001b[0m\u001b[0;34m\u001b[0m\u001b[0m\n\u001b[0;32m----> 2\u001b[0;31m \u001b[0mmy_statement\u001b[0m \u001b[0;34m=\u001b[0m \u001b[0;34m\"I am\"\u001b[0m \u001b[0;34m+\u001b[0m \u001b[0mmy_num\u001b[0m \u001b[0;34m+\u001b[0m \u001b[0;34m\" years old.\"\u001b[0m\u001b[0;34m\u001b[0m\u001b[0;34m\u001b[0m\u001b[0m\n\u001b[0m\u001b[1;32m      3\u001b[0m \u001b[0mprint\u001b[0m\u001b[0;34m(\u001b[0m\u001b[0mmy_statement\u001b[0m\u001b[0;34m)\u001b[0m\u001b[0;34m\u001b[0m\u001b[0;34m\u001b[0m\u001b[0m\n",
            "\u001b[0;31mTypeError\u001b[0m: can only concatenate str (not \"int\") to str"
          ]
        }
      ]
    },
    {
      "cell_type": "code",
      "metadata": {
        "id": "Kn7UszSPXhbT",
        "colab": {
          "base_uri": "https://localhost:8080/"
        },
        "outputId": "a80f52a4-c090-4f94-9dfc-bc4474d26fb8"
      },
      "source": [
        "# this is more like it\n",
        "my_statement = \"I am \" + str(my_num) + \" years old.\" \n",
        "print(my_statement)"
      ],
      "execution_count": null,
      "outputs": [
        {
          "output_type": "stream",
          "name": "stdout",
          "text": [
            "I am 25 years old.\n"
          ]
        }
      ]
    },
    {
      "cell_type": "markdown",
      "metadata": {
        "id": "q7vD1imb-DGX"
      },
      "source": [
        "**Lists are ordered, iterable, mutable and allow duplicates. We can access their items by position, and loop over them. They can also include items of different data types, the same value more than once and can be changed. Python lists are zero-indexed.**"
      ]
    },
    {
      "cell_type": "code",
      "metadata": {
        "id": "8XGlDokUYEfB",
        "colab": {
          "base_uri": "https://localhost:8080/"
        },
        "outputId": "fcd71251-372a-408a-d667-2d65e7a115e9"
      },
      "source": [
        "mixed_list = [\"This\", \"is\", \"a\", True, \"list\", \"with\", 1, \"dict:\", {\"field1\":\"value1\", \"filed2\":\"value2\"}]\n",
        "\n",
        "print(mixed_list[0])"
      ],
      "execution_count": null,
      "outputs": [
        {
          "output_type": "stream",
          "name": "stdout",
          "text": [
            "This\n"
          ]
        }
      ]
    },
    {
      "cell_type": "code",
      "metadata": {
        "id": "a4HfB04LYpiA",
        "colab": {
          "base_uri": "https://localhost:8080/"
        },
        "outputId": "dd749e05-b05f-4b71-a2ca-a0501765993e"
      },
      "source": [
        "for item in mixed_list:\n",
        "  print(item)"
      ],
      "execution_count": null,
      "outputs": [
        {
          "output_type": "stream",
          "name": "stdout",
          "text": [
            "This\n",
            "is\n",
            "a\n",
            "True\n",
            "list\n",
            "with\n",
            "1\n",
            "dict:\n",
            "{'field1': 'value1', 'filed2': 'value2'}\n"
          ]
        }
      ]
    },
    {
      "cell_type": "markdown",
      "metadata": {
        "id": "eaaAaMm3-DGY"
      },
      "source": [
        "**Dictionaries (\"dict\" for short) are ordered (as of Python 3.7), mutable, iterable, and do not allow duplicates. This means we can access values in dicts by key, but also iterate over them in a loop and (now) be confident that the items will appear in a predictable order.**"
      ]
    },
    {
      "cell_type": "code",
      "metadata": {
        "id": "aQAhUhypZnUJ",
        "colab": {
          "base_uri": "https://localhost:8080/"
        },
        "outputId": "3e13dba4-b9c7-41b2-f2ec-5915c6c62106"
      },
      "source": [
        "course_info = {\"title\": \"Data Wrangling Boot Camp\", \n",
        " \"format\": \"workshop\",\n",
        " \"organizer\": \"SHARP\"\n",
        " }\n",
        "\n",
        "print(course_info[\"title\"])"
      ],
      "execution_count": null,
      "outputs": [
        {
          "output_type": "stream",
          "name": "stdout",
          "text": [
            "Data Wrangling Boot Camp\n"
          ]
        }
      ]
    },
    {
      "cell_type": "code",
      "metadata": {
        "id": "u80Y4vmiaU22",
        "colab": {
          "base_uri": "https://localhost:8080/"
        },
        "outputId": "df588488-b467-43aa-b05f-7401c4939db0"
      },
      "source": [
        "course_info[\"first_day\"] = \"July 26th, 2022\"\n",
        "print (course_info)"
      ],
      "execution_count": null,
      "outputs": [
        {
          "output_type": "stream",
          "name": "stdout",
          "text": [
            "{'title': 'Data Wrangling Boot Camp', 'format': 'workshop', 'organizer': 'SHARP', 'first_day': 'July 26th, 2022'}\n"
          ]
        }
      ]
    },
    {
      "cell_type": "code",
      "metadata": {
        "id": "brheyDFHcnQZ",
        "colab": {
          "base_uri": "https://localhost:8080/"
        },
        "outputId": "3eb7df56-0714-488a-df46-b6cc7dd29a33"
      },
      "source": [
        "for key in course_info:\n",
        "  print(key+\" : \" + course_info[key])"
      ],
      "execution_count": null,
      "outputs": [
        {
          "output_type": "stream",
          "name": "stdout",
          "text": [
            "title : Data Wrangling Boot Camp\n",
            "format : workshop\n",
            "organizer : SHARP\n",
            "first_day : July 26th, 2022\n"
          ]
        }
      ]
    },
    {
      "cell_type": "markdown",
      "metadata": {
        "id": "Tw-_W9AJ-DGZ"
      },
      "source": [
        "**A new key/value pair can be added simply by declaring it, however it will always be at the end of the existing dict. While using spaces in keys is not recommended, the fact that it is supported makes dealing with found data (especially headers) much easier."
      ]
    },
    {
      "cell_type": "markdown",
      "metadata": {
        "id": "ec_Jr39h-DGb"
      },
      "source": [
        "**In Python, Boolean values are capitalized and unquoted, e.g. True/False. If you accidentally quote them, they become strings and will _always_ evaluate to True. While 0 will also evaluate to false, this is not recommended.**\n"
      ]
    },
    {
      "cell_type": "code",
      "metadata": {
        "id": "imCkdPxfd1pw",
        "colab": {
          "base_uri": "https://localhost:8080/"
        },
        "outputId": "1a850237-1e48-499f-83e9-e944f6213a41"
      },
      "source": [
        "truthy = True\n",
        "\n",
        "if truthy:\n",
        "  print(\"this true!\")\n",
        "\n"
      ],
      "execution_count": null,
      "outputs": [
        {
          "output_type": "stream",
          "name": "stdout",
          "text": [
            "this true!\n"
          ]
        }
      ]
    },
    {
      "cell_type": "code",
      "source": [
        "not_truthy = False\n",
        "if not_truthy:\n",
        "  print(\"This should not print\")"
      ],
      "metadata": {
        "id": "0qV_UeyCDlUb"
      },
      "execution_count": null,
      "outputs": []
    },
    {
      "cell_type": "code",
      "metadata": {
        "id": "cLUPxRiHeOgN",
        "colab": {
          "base_uri": "https://localhost:8080/"
        },
        "outputId": "ba3834ee-f3e5-400d-b11b-f7f78e784ed4"
      },
      "source": [
        "if not (not_truthy):\n",
        "  print(\"The opposite of true!\")"
      ],
      "execution_count": null,
      "outputs": [
        {
          "output_type": "stream",
          "name": "stdout",
          "text": [
            "The opposite of true!\n"
          ]
        }
      ]
    },
    {
      "cell_type": "code",
      "metadata": {
        "id": "J3U9SW8jejYi"
      },
      "source": [
        "pseudo_truthy = \"False\"\n"
      ],
      "execution_count": null,
      "outputs": []
    },
    {
      "cell_type": "code",
      "metadata": {
        "id": "-FnMx0Tze3zn"
      },
      "source": [
        "# this will throw an error\n",
        "\n",
        "what_even_is_truth = true"
      ],
      "execution_count": null,
      "outputs": []
    },
    {
      "cell_type": "markdown",
      "metadata": {
        "id": "WICK8FxU-DGd"
      },
      "source": [
        "**Tuples and sets are (mostly) a convenient way to pass around multiple data values, e.g. as function parameters and return values.** \n",
        "\n",
        "**Tuples are ordered and immutable; sets are unordered, immutable, iterable and do not allow duplicates. Casting a different data type as a set can be a quick way to identify the unique values it includes.**"
      ]
    },
    {
      "cell_type": "code",
      "metadata": {
        "id": "_jZj7mlvfHAf"
      },
      "source": [
        "# rectangular dimensions as a tuple works well"
      ],
      "execution_count": null,
      "outputs": []
    },
    {
      "cell_type": "code",
      "metadata": {
        "id": "5s5M3QoOfUsj"
      },
      "source": [
        ""
      ],
      "execution_count": null,
      "outputs": []
    },
    {
      "cell_type": "code",
      "metadata": {
        "id": "8tWoVZr4faGU"
      },
      "source": [
        "# not so much as a set - \"duck typing\" in action!\n"
      ],
      "execution_count": null,
      "outputs": []
    },
    {
      "cell_type": "code",
      "metadata": {
        "id": "ui3-n5GqfnsC"
      },
      "source": [
        "# creating a set from an existing list gives you the unique values\n",
        "ice_cream_orders = [\"chocolate\",\"chocolate\",\"chocolate\",\"vanilla\"]"
      ],
      "execution_count": null,
      "outputs": []
    },
    {
      "cell_type": "markdown",
      "metadata": {
        "id": "pDAsf2gs-DGe"
      },
      "source": [
        "### Next up\n",
        "\n",
        "Now that we've learned a little bit about the basics of Python data types, it's time to turn to the \"verbs\" of the Python programming language: methods and functions. We'll also look in more detail at our key grammatical structures, loops and conditionals."
      ]
    }
  ]
}